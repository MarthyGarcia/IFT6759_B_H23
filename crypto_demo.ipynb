{
 "cells": [
  {
   "cell_type": "code",
   "execution_count": 1,
   "id": "23394f7a-2241-4bef-8278-531afaeda5fc",
   "metadata": {},
   "outputs": [],
   "source": [
    "from datetime import datetime"
   ]
  },
  {
   "cell_type": "code",
   "execution_count": 2,
   "id": "c22edb1b-bdd1-4cb7-a660-76383049818e",
   "metadata": {},
   "outputs": [],
   "source": [
    "from alpaca.data.historical import CryptoHistoricalDataClient\n",
    "from alpaca.data.requests import CryptoBarsRequest\n",
    "from alpaca.data.timeframe import TimeFrame\n",
    "\n",
    "\n",
    "client = CryptoHistoricalDataClient()"
   ]
  },
  {
   "cell_type": "code",
   "execution_count": 3,
   "id": "ac17f8f5-870e-40e3-b726-7db56329206c",
   "metadata": {},
   "outputs": [],
   "source": [
    "def format_dt(string):\n",
    "    return datetime.strptime(string, \"%Y-%m-%d\")"
   ]
  },
  {
   "cell_type": "code",
   "execution_count": 4,
   "id": "51d652e8-373c-4962-9384-b45a976fbcb5",
   "metadata": {},
   "outputs": [],
   "source": [
    "# Creating request object\n",
    "request_params = CryptoBarsRequest(\n",
    "                        symbol_or_symbols=[\"BTC/USD\", \"ETH/USD\"],\n",
    "                        timeframe=TimeFrame.Hour,\n",
    "                        start=format_dt(\"2015-02-01\"),\n",
    "#                         end=format_dt(\"2022-09-07\")\n",
    ")"
   ]
  },
  {
   "cell_type": "code",
   "execution_count": 5,
   "id": "4dcbdefa-2f0d-47c8-a00f-d168995c077c",
   "metadata": {},
   "outputs": [],
   "source": [
    "# Retrieve daily bars for Bitcoin in a DataFrame and printing it\n",
    "btc_bars = client.get_crypto_bars(request_params)"
   ]
  },
  {
   "cell_type": "code",
   "execution_count": 6,
   "id": "646377cc-c365-4c16-bdb4-6c7ff3de02d7",
   "metadata": {},
   "outputs": [],
   "source": [
    "# Convert to dataframe\n",
    "btc_bars.df.to_parquet(\"data/ETH_BTC_2015-02-01.pqt\")"
   ]
  },
  {
   "cell_type": "code",
   "execution_count": 7,
   "id": "8d572b9b-ecac-40f6-89ec-80af27021b4d",
   "metadata": {},
   "outputs": [
    {
     "data": {
      "text/plain": [
       "(42717, 7)"
      ]
     },
     "execution_count": 7,
     "metadata": {},
     "output_type": "execute_result"
    }
   ],
   "source": [
    "btc_bars.df.shape"
   ]
  }
 ],
 "metadata": {
  "kernelspec": {
   "display_name": "snek",
   "language": "python",
   "name": "snek"
  },
  "language_info": {
   "codemirror_mode": {
    "name": "ipython",
    "version": 3
   },
   "file_extension": ".py",
   "mimetype": "text/x-python",
   "name": "python",
   "nbconvert_exporter": "python",
   "pygments_lexer": "ipython3",
   "version": "3.9.5"
  }
 },
 "nbformat": 4,
 "nbformat_minor": 5
}
