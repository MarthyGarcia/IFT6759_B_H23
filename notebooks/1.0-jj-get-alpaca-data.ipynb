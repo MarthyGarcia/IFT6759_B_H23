{
 "cells": [
  {
   "cell_type": "markdown",
   "id": "054da039-c4ff-4a3c-8d82-b3e5f80e3129",
   "metadata": {},
   "source": [
    "# Crypto"
   ]
  },
  {
   "cell_type": "code",
   "execution_count": 1,
   "id": "de297edb-5428-44a2-a428-34bb44ea378d",
   "metadata": {},
   "outputs": [],
   "source": [
    "import os\n",
    "from datetime import datetime"
   ]
  },
  {
   "cell_type": "code",
   "execution_count": 2,
   "id": "c3119fc2-bdf1-45bd-9fc5-476061eadba1",
   "metadata": {},
   "outputs": [],
   "source": [
    "from alpaca.data.historical import CryptoHistoricalDataClient, StockHistoricalDataClient\n",
    "from alpaca.data.requests import CryptoBarsRequest, StockBarsRequest\n",
    "from alpaca.data.timeframe import TimeFrame"
   ]
  },
  {
   "cell_type": "code",
   "execution_count": 3,
   "id": "6730220d-de13-4dfb-91c0-183cc41f1c42",
   "metadata": {},
   "outputs": [],
   "source": [
    "def format_dt(string):\n",
    "    # alpaca needs datetime objects\n",
    "    return datetime.strptime(string, \"%Y-%m-%d\")"
   ]
  },
  {
   "cell_type": "code",
   "execution_count": 2,
   "id": "a2489077-03d4-4376-a43b-897d6441d7ee",
   "metadata": {},
   "outputs": [],
   "source": [
    "client = CryptoHistoricalDataClient()\n",
    "# Creating request object\n",
    "request_params = CryptoBarsRequest(\n",
    "                        symbol_or_symbols=[\"BTC/USD\", \"ETH/USD\"],\n",
    "                        timeframe=TimeFrame.Hour,\n",
    "                        start=format_dt(\"2015-02-01\"),\n",
    "                        end=format_dt(\"2023-02-01\")\n",
    ")\n",
    "\n",
    "# Retrieve daily bars for Bitcoin in a DataFrame and printing it\n",
    "btc_bars = client.get_crypto_bars(request_params)"
   ]
  },
  {
   "cell_type": "code",
   "execution_count": 6,
   "id": "646377cc-c365-4c16-bdb4-6c7ff3de02d7",
   "metadata": {},
   "outputs": [],
   "source": [
    "# Convert to dataframe\n",
    "crypto_file_path = \"data/ETH_BTC_2015-02-01.pqt\"\n",
    "btc_bars.df.to_parquet(crypto_file_path)"
   ]
  },
  {
   "cell_type": "code",
   "execution_count": 7,
   "id": "8d572b9b-ecac-40f6-89ec-80af27021b4d",
   "metadata": {},
   "outputs": [
    {
     "data": {
      "text/plain": [
       "(42717, 7)"
      ]
     },
     "execution_count": 7,
     "metadata": {},
     "output_type": "execute_result"
    }
   ],
   "source": [
    "btc_bars.df.shape"
   ]
  },
  {
   "cell_type": "markdown",
   "id": "a996a28f-8157-4b9e-a353-517a181a63d7",
   "metadata": {},
   "source": [
    "# Stonks"
   ]
  },
  {
   "cell_type": "code",
   "execution_count": null,
   "id": "a8f414ba-2b28-4f6a-a783-164446f0bacb",
   "metadata": {},
   "outputs": [],
   "source": [
    "# keys required\n",
    "stock_client = StockHistoricalDataClient(os.environ.get(\"alpaca_pub\"),  os.environ.get(\"alpaca_priv\"))\n",
    "\n",
    "stonks = [\"AAPL\", \"MSFT\", \"TSLA\", \n",
    "          \"HD\", \"WMT\", \n",
    "          \"JPM\", \"BAC\", \"MS\", \"TD\",\n",
    "          \"GME\", \"AMC\"\n",
    "         ]\n",
    "\n",
    "request_params = StockBarsRequest(\n",
    "                        symbol_or_symbols=stonks,\n",
    "                        timeframe=TimeFrame.Hour,\n",
    "                        start=format_dt(\"2015-02-01\")\n",
    "                 )\n",
    "\n",
    "bars = stock_client.get_stock_bars(request_params)"
   ]
  },
  {
   "cell_type": "code",
   "execution_count": null,
   "id": "24fc9edb-ea3c-4ef8-b8a0-10d3b3bf8c7e",
   "metadata": {},
   "outputs": [],
   "source": [
    "stocks_file_path = \"data/from_2015-02-01_various_stocks.pqt\"\n",
    "bars.df.to_parquet(stocks_file_path)\n",
    "bars.df.shape"
   ]
  }
 ],
 "metadata": {
  "kernelspec": {
   "display_name": "snek",
   "language": "python",
   "name": "snek"
  },
  "language_info": {
   "codemirror_mode": {
    "name": "ipython",
    "version": 3
   },
   "file_extension": ".py",
   "mimetype": "text/x-python",
   "name": "python",
   "nbconvert_exporter": "python",
   "pygments_lexer": "ipython3",
   "version": "3.9.5"
  }
 },
 "nbformat": 4,
 "nbformat_minor": 5
}
