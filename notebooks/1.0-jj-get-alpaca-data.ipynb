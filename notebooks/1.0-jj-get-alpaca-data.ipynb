{
 "cells": [
  {
   "cell_type": "markdown",
   "id": "054da039-c4ff-4a3c-8d82-b3e5f80e3129",
   "metadata": {},
   "source": [
    "# Crypto"
   ]
  },
  {
   "cell_type": "code",
   "execution_count": 1,
   "id": "de297edb-5428-44a2-a428-34bb44ea378d",
   "metadata": {},
   "outputs": [],
   "source": [
    "import os\n",
    "from datetime import datetime"
   ]
  },
  {
   "cell_type": "code",
   "execution_count": 2,
   "id": "c3119fc2-bdf1-45bd-9fc5-476061eadba1",
   "metadata": {},
   "outputs": [],
   "source": [
    "from alpaca.data.historical import CryptoHistoricalDataClient, StockHistoricalDataClient\n",
    "from alpaca.data.requests import CryptoBarsRequest, StockBarsRequest\n",
    "from alpaca.data.timeframe import TimeFrame"
   ]
  },
  {
   "cell_type": "code",
   "execution_count": 3,
   "id": "6730220d-de13-4dfb-91c0-183cc41f1c42",
   "metadata": {},
   "outputs": [],
   "source": [
    "def format_dt(string):\n",
    "    # alpaca needs datetime objects\n",
    "    return datetime.strptime(string, \"%Y-%m-%d\")"
   ]
  },
  {
   "cell_type": "code",
   "execution_count": 15,
   "id": "627bb919-c51b-417c-8b68-c3151f8d1146",
   "metadata": {},
   "outputs": [],
   "source": [
    "client = CryptoHistoricalDataClient()\n",
    "# Creating request object\n",
    "\n",
    "for symbol in [\"BTC/USD\", \"ETH/USD\"]:\n",
    "    request_params = CryptoBarsRequest(\n",
    "                            symbol_or_symbols=symbol,\n",
    "                            timeframe=TimeFrame.Hour,\n",
    "                            start=format_dt(\"2015-02-01\"),\n",
    "                            end=format_dt(\"2023-02-01\")\n",
    "    )\n",
    "\n",
    "    # Retrieve daily bars for Bitcoin in a DataFrame and printing it\n",
    "    btc_bars = client.get_crypto_bars(request_params)\n",
    "\n",
    "    # Convert to dataframe\n",
    "    file_path = f\"../raw/crypto/{symbol.split('/')[0]}.csv\"\n",
    "    \n",
    "    df = btc_bars.df.reset_index()\n",
    "    df = df.drop([\"symbol\", \"timestamp\"], axis=1)\n",
    "    df.to_csv(file_path, header=None, index=False)\n"
   ]
  },
  {
   "cell_type": "markdown",
   "id": "a996a28f-8157-4b9e-a353-517a181a63d7",
   "metadata": {},
   "source": [
    "# Stonks"
   ]
  },
  {
   "cell_type": "code",
   "execution_count": 17,
   "id": "5c4def9c-f690-470b-b1ab-99447c9aaeb5",
   "metadata": {},
   "outputs": [],
   "source": [
    "# keys required\n",
    "stock_client = StockHistoricalDataClient(os.environ.get(\"alpaca_pub\"),  os.environ.get(\"alpaca_priv\"))\n",
    "\n",
    "stonks = [\"AAPL\", \"MSFT\", \"TSLA\", \n",
    "          \"HD\", \"WMT\", \n",
    "          \"JPM\", \"BAC\", \"MS\", \"TD\",\n",
    "          \"GME\", \"AMC\"\n",
    "         ]\n",
    "\n",
    "for symbol in stonks:\n",
    "    request_params = StockBarsRequest(\n",
    "                            symbol_or_symbols=symbol,\n",
    "                            timeframe=TimeFrame.Hour,\n",
    "                            start=format_dt(\"2015-02-01\"),\n",
    "                            end=format_dt(\"2023-02-01\")\n",
    "                     )\n",
    "\n",
    "    bars = stock_client.get_stock_bars(request_params)\n",
    "\n",
    "    # Convert to dataframe\n",
    "    file_path = f\"../raw/crypto/{symbol}.csv\"\n",
    "    \n",
    "    df = bars.df.reset_index()\n",
    "    df = df.drop([\"symbol\", \"timestamp\"], axis=1)\n",
    "    df.to_csv(file_path, header=None, index=False)\n"
   ]
  }
 ],
 "metadata": {
  "kernelspec": {
   "display_name": "snek",
   "language": "python",
   "name": "snek"
  },
  "language_info": {
   "codemirror_mode": {
    "name": "ipython",
    "version": 3
   },
   "file_extension": ".py",
   "mimetype": "text/x-python",
   "name": "python",
   "nbconvert_exporter": "python",
   "pygments_lexer": "ipython3",
   "version": "3.9.5"
  }
 },
 "nbformat": 4,
 "nbformat_minor": 5
}
