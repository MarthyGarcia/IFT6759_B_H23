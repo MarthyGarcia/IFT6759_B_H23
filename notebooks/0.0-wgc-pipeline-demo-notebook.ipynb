{
 "cells": [
  {
   "cell_type": "markdown",
   "id": "491b7c67",
   "metadata": {},
   "source": [
    "\n",
    "# Pipeline Demo"
   ]
  },
  {
   "cell_type": "markdown",
   "id": "e423f91c",
   "metadata": {},
   "source": [
    "This notebook illustrates the usage of our evaluation pipeline for TimeSeries forecasting\n",
    "\n",
    "Emphasis is put on reproducibility and avoiding boilerplate code within experiment notebooks"
   ]
  },
  {
   "cell_type": "markdown",
   "id": "5171cf9e",
   "metadata": {},
   "source": [
    "## Setup & Imports"
   ]
  },
  {
   "cell_type": "code",
   "execution_count": null,
   "id": "932477a0",
   "metadata": {},
   "outputs": [],
   "source": [
    "# Colab Setup\n",
    "\n",
    "# download repo\n",
    "! git clone https://github.com/MarthyGarcia/IFT6759_B_H23.git\n",
    "%cd IFT6759_B_H23\n",
    "\n",
    "# install make\n",
    "! apt-get install binutils\n",
    "\n",
    "# run dependencies\n",
    "! make requirements\n",
    "! make sync_data"
   ]
  },
  {
   "cell_type": "code",
   "execution_count": null,
   "id": "8764d82e",
   "metadata": {
    "ExecuteTime": {
     "end_time": "2023-04-11T20:22:14.482511Z",
     "start_time": "2023-04-11T20:22:14.475436Z"
    },
    "scrolled": true
   },
   "outputs": [],
   "source": [
    "# Local Setup\n",
    "%cd ~/Documents/school/projet/IFT6759_B_H23"
   ]
  },
  {
   "cell_type": "code",
   "execution_count": null,
   "id": "758a6b3e",
   "metadata": {},
   "outputs": [],
   "source": [
    "from src.pipeline.pipeline import ExperimentPipeline\n",
    "from src.pipeline.experiment import Experiment, HyperParameter, BayesOptHyperParameter\n",
    "\n",
    "from darts.metrics import mae\n",
    "\n",
    "from darts.dataprocessing import Pipeline\n",
    "from darts.dataprocessing.transformers import Scaler\n",
    "\n",
    "from darts.models.forecasting.forecasting_model import LocalForecastingModel\n",
    "from darts.models import RNNModel\n",
    "\n",
    "from pytorch_lightning.callbacks import EarlyStopping"
   ]
  },
  {
   "cell_type": "markdown",
   "id": "20b4bb08",
   "metadata": {},
   "source": [
    "## Experiment Definition"
   ]
  },
  {
   "cell_type": "markdown",
   "id": "1a91d7ca",
   "metadata": {},
   "source": [
    "### Dataset"
   ]
  },
  {
   "cell_type": "markdown",
   "id": "656b7873",
   "metadata": {},
   "source": [
    "We set our dataset and the processing operations\n",
    "\n",
    "Here we only do scaling within [0,1]"
   ]
  },
  {
   "cell_type": "code",
   "execution_count": null,
   "id": "2ca12f32",
   "metadata": {
    "ExecuteTime": {
     "end_time": "2023-04-11T20:22:21.183589Z",
     "start_time": "2023-04-11T20:22:21.180977Z"
    }
   },
   "outputs": [],
   "source": [
    "dataset = 'traffic'  # ['exchange_rate', 'traffic', 'electricity', 'BTC', 'ETH'], only uses first covariate"
   ]
  },
  {
   "cell_type": "code",
   "execution_count": null,
   "id": "24d1672f",
   "metadata": {
    "ExecuteTime": {
     "end_time": "2023-04-11T20:22:21.216582Z",
     "start_time": "2023-04-11T20:22:21.193833Z"
    }
   },
   "outputs": [],
   "source": [
    "# define preprocessing operations with `.fit_transform()` sklearn API\n",
    "preprocessing = Pipeline([\n",
    "    Scaler()\n",
    "])"
   ]
  },
  {
   "cell_type": "markdown",
   "id": "12f6a863",
   "metadata": {},
   "source": [
    "### Evaluation"
   ]
  },
  {
   "cell_type": "markdown",
   "id": "abbbeb21",
   "metadata": {},
   "source": [
    "Define the evaluation metric"
   ]
  },
  {
   "cell_type": "code",
   "execution_count": null,
   "id": "89e95cc6",
   "metadata": {},
   "outputs": [],
   "source": [
    "# Mean Average Error\n",
    "metric = mae  # [mape, mare, mase, mse, rmse, ...]"
   ]
  },
  {
   "cell_type": "markdown",
   "id": "43320e86",
   "metadata": {},
   "source": [
    "### Model"
   ]
  },
  {
   "cell_type": "code",
   "execution_count": null,
   "id": "bee264d9",
   "metadata": {
    "ExecuteTime": {
     "end_time": "2023-04-11T20:22:21.211644Z",
     "start_time": "2023-04-11T20:22:21.185533Z"
    }
   },
   "outputs": [],
   "source": [
    "# set DARTS model class\n",
    "model = RNNModel"
   ]
  },
  {
   "cell_type": "markdown",
   "id": "768ed7d2",
   "metadata": {},
   "source": [
    "Here we set our determined HParams\n",
    "\n",
    "| HParams           |                     Value |\n",
    "|:------------------|--------------------------:|\n",
    "| Model             |                      LSTM |\n",
    "| Input chunk len   |                  ONE_WEEK |\n",
    "| Max number epochs |                        50 |\n",
    "| Optimizer args    |                   LR=1e-3 |\n",
    "| Trainer args      | EarlyStop with patience=5 |"
   ]
  },
  {
   "cell_type": "code",
   "execution_count": null,
   "id": "cad1e8a9",
   "metadata": {},
   "outputs": [],
   "source": [
    "ONE_WEEK =  24*7\n",
    "\n",
    "deterministic_params = {\n",
    "    'model': 'LSTM',\n",
    "    'input_chunk_length': ONE_WEEK,\n",
    "    'n_epochs': 50,\n",
    "    'optimizer_kwargs': {\"lr\": 1e-3},\n",
    "    'pl_trainer_kwargs': {'callbacks': [EarlyStopping(monitor=\"val_loss\", patience=5, min_delta=1e-5, mode='min')]}\n",
    "}\n",
    "\n",
    "deterministic_params = [HyperParameter(name=k, value=v) for k, v in deterministic_params.items()]"
   ]
  },
  {
   "cell_type": "markdown",
   "id": "aba28ab5",
   "metadata": {},
   "source": [
    "Here we set our parameters we want to optimize:\n",
    "\n",
    "| HParams           | Type          |                          Values |\n",
    "|-------------------|---------------|--------------------------------:|\n",
    "| Dropout           | `float`       |                         [0,0.8] |\n",
    "| Hidden Dimensions | `categorical` |               {16, 32, 64, 128} |\n",
    "| RNN Layers        | `int`         |                           [1,3] |"
   ]
  },
  {
   "cell_type": "code",
   "execution_count": null,
   "id": "df3227fc",
   "metadata": {},
   "outputs": [],
   "source": [
    "optuna_params = {\n",
    "    'dropout': {\n",
    "        'optuna_suggest_method': 'suggest_float',\n",
    "        'value': {'low': 0.0, 'high': 0.8}\n",
    "    },\n",
    "    'hidden_dim': {\n",
    "        'optuna_suggest_method': 'suggest_categorical',\n",
    "        'value': {'choices': [2**i for i in range(4, 10)]}  # 16 => 512\n",
    "    },\n",
    "    'n_rnn_layers': {\n",
    "        'optuna_suggest_method': 'suggest_int',\n",
    "        'value': {'low': 1, 'high': 10}        \n",
    "    }\n",
    "}\n",
    "\n",
    "optuna_params = [BayesOptHyperParameter(name=k, **v) for k, v in optuna_params.items()]"
   ]
  },
  {
   "cell_type": "markdown",
   "id": "a3406f3b",
   "metadata": {},
   "source": [
    "### Experiment"
   ]
  },
  {
   "cell_type": "markdown",
   "id": "c81367ce",
   "metadata": {},
   "source": [
    "We re-use the experiment parameters defined earlier as well as defining new parameters."
   ]
  },
  {
   "cell_type": "code",
   "execution_count": null,
   "id": "0ec3e77b",
   "metadata": {
    "ExecuteTime": {
     "end_time": "2023-04-11T20:22:21.250482Z",
     "start_time": "2023-04-11T20:22:21.246042Z"
    }
   },
   "outputs": [],
   "source": [
    "ONE_MINUTE = 60\n",
    "\n",
    "params = Experiment(\n",
    "    dataset=dataset,\n",
    "    preprocessing=preprocessing,\n",
    "    model=model,\n",
    "    hyper_parameters=deterministic_params + optuna_params,\n",
    "    metric=metric,\n",
    "    \n",
    "    horizon=ONE_WEEK,             # Horizon for prediction\n",
    "    optuna_timeout=ONE_MINUTE,    # Time allocated for HParam search in seconds\n",
    "    n_backtest=100,               # Number of validation samples for the backtest, means len(valid_dataset)\n",
    "    n_train_samples=500           # Number of samples for our .fit(), means len(train_dataset)\n",
    ")"
   ]
  },
  {
   "cell_type": "markdown",
   "id": "7aff3fe0",
   "metadata": {},
   "source": [
    "## Running the pipeline"
   ]
  },
  {
   "cell_type": "code",
   "execution_count": null,
   "id": "f677de86",
   "metadata": {},
   "outputs": [],
   "source": [
    "pipeline = ExperimentPipeline(params)\n",
    "pipeline.run()"
   ]
  },
  {
   "cell_type": "markdown",
   "id": "24a96c9e",
   "metadata": {},
   "source": [
    "## Validation"
   ]
  },
  {
   "cell_type": "markdown",
   "id": "7e563879",
   "metadata": {},
   "source": [
    "### Retrain with best HParams"
   ]
  },
  {
   "cell_type": "markdown",
   "id": "86771d2a",
   "metadata": {},
   "source": [
    "Sample model with fast train time and decent performance\n",
    "\n",
    "runs for 11 epochs"
   ]
  },
  {
   "cell_type": "code",
   "execution_count": null,
   "id": "f206f77e",
   "metadata": {},
   "outputs": [],
   "source": [
    "best_hparams = {\n",
    "    \"model\": 'LSTM',\n",
    "    \"hidden_dim\": 32,\n",
    "    \"dropout\": 0.5,\n",
    "    \"n_rnn_layers\": 5,\n",
    "    \"input_chunk_length\": ONE_WEEK,\n",
    "    \"n_epochs\": 100,\n",
    "    \"optimizer_kwargs\": {\"lr\": 1e-3},\n",
    "    \"pl_trainer_kwargs\": {'callbacks': [EarlyStopping(monitor=\"val_loss\", patience=3, min_delta=1e-5, mode='min')]}\n",
    "}"
   ]
  },
  {
   "cell_type": "code",
   "execution_count": null,
   "id": "6dc35ccb",
   "metadata": {},
   "outputs": [],
   "source": [
    "train = pipeline.data['train']\n",
    "valid = pipeline.data['valid']\n",
    "test =  pipeline.data['test']"
   ]
  },
  {
   "cell_type": "code",
   "execution_count": null,
   "id": "d5beba96",
   "metadata": {},
   "outputs": [],
   "source": [
    "model = RNNModel(**best_hparams)\n",
    "model.fit(series=train, val_series=valid)"
   ]
  },
  {
   "cell_type": "markdown",
   "id": "f31fcbb5",
   "metadata": {},
   "source": [
    "### Plot"
   ]
  },
  {
   "cell_type": "code",
   "execution_count": null,
   "id": "a1e4181f",
   "metadata": {},
   "outputs": [],
   "source": [
    "first_week = test[:ONE_WEEK]\n",
    "second_week = test[ONE_WEEK:ONE_WEEK*2]\n",
    "\n",
    "preds_second_week = model.predict(n=ONE_WEEK, series=first_week)"
   ]
  },
  {
   "cell_type": "code",
   "execution_count": null,
   "id": "7ac92378",
   "metadata": {},
   "outputs": [],
   "source": [
    "preds_second_week.plot(label='prediction')\n",
    "second_week.plot(label='truth')\n",
    "\n",
    "mae(preds_second_week, second_week)"
   ]
  },
  {
   "cell_type": "markdown",
   "id": "5ea5ce7d",
   "metadata": {},
   "source": [
    "### Full Data Backtesting"
   ]
  },
  {
   "cell_type": "code",
   "execution_count": null,
   "id": "36c464f8",
   "metadata": {},
   "outputs": [],
   "source": [
    "# evaluate with backtest on test data with \n",
    "N_EVALUATION_POINTS = 100\n",
    "series = train.append(valid)\n",
    "\n",
    "metric = model.backtest(\n",
    "    metric=mae,\n",
    "    series=series.append(test) + 1e-9,\n",
    "    start=len(series),\n",
    "    forecast_horizon=ONE_WEEK,\n",
    "    stride=len(test) // N_EVALUATION_POINTS,\n",
    "    retrain=isinstance(model, LocalForecastingModel),\n",
    ")"
   ]
  },
  {
   "cell_type": "code",
   "execution_count": null,
   "id": "73d5fce4",
   "metadata": {},
   "outputs": [],
   "source": [
    "metric"
   ]
  }
 ],
 "metadata": {
  "kernelspec": {
   "display_name": "Python 3 (ipykernel)",
   "language": "python",
   "name": "python3"
  },
  "language_info": {
   "codemirror_mode": {
    "name": "ipython",
    "version": 3
   },
   "file_extension": ".py",
   "mimetype": "text/x-python",
   "name": "python",
   "nbconvert_exporter": "python",
   "pygments_lexer": "ipython3",
   "version": "3.10.10"
  }
 },
 "nbformat": 4,
 "nbformat_minor": 5
}
