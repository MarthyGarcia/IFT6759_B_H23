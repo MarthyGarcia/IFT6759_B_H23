{
 "cells": [
  {
   "cell_type": "markdown",
   "source": [
    "# HParam Search Example"
   ],
   "metadata": {
    "collapsed": false
   }
  },
  {
   "cell_type": "code",
   "execution_count": null,
   "outputs": [],
   "source": [
    "%cd .."
   ],
   "metadata": {
    "collapsed": false,
    "ExecuteTime": {
     "start_time": "2023-04-11T15:48:50.486678Z",
     "end_time": "2023-04-11T15:48:50.510482Z"
    }
   }
  },
  {
   "cell_type": "code",
   "execution_count": null,
   "outputs": [],
   "source": [
    "from darts.metrics import mae\n",
    "from src.pipeline.pipeline import ExperimentPipeline\n",
    "from darts.models import RNNModel\n",
    "from src.pipeline.experiment import Experiment, HyperParameter, BayesOptHyperParameter\n",
    "from darts.dataprocessing.transformers import Scaler\n",
    "from darts.dataprocessing import Pipeline\n",
    "from darts.models.forecasting.forecasting_model import LocalForecastingModel"
   ],
   "metadata": {
    "collapsed": false,
    "ExecuteTime": {
     "start_time": "2023-04-11T15:48:51.504471Z",
     "end_time": "2023-04-11T15:48:54.273335Z"
    }
   }
  },
  {
   "cell_type": "markdown",
   "source": [
    "We first define our dataset and algorithm"
   ],
   "metadata": {
    "collapsed": false
   }
  },
  {
   "cell_type": "code",
   "execution_count": null,
   "outputs": [],
   "source": [
    "# define dataset\n",
    "dataset = 'traffic'  # ['exchange_rate', 'traffic', 'electricity'], only uses first covariate"
   ],
   "metadata": {
    "collapsed": false,
    "ExecuteTime": {
     "start_time": "2023-04-11T15:48:54.265816Z",
     "end_time": "2023-04-11T15:48:54.273609Z"
    }
   }
  },
  {
   "cell_type": "code",
   "execution_count": null,
   "outputs": [],
   "source": [
    "# set DARTS model class\n",
    "model = RNNModel"
   ],
   "metadata": {
    "collapsed": false,
    "ExecuteTime": {
     "start_time": "2023-04-11T15:48:54.267742Z",
     "end_time": "2023-04-11T15:48:54.277739Z"
    }
   }
  },
  {
   "cell_type": "code",
   "execution_count": null,
   "outputs": [],
   "source": [
    "# define preprocessing\n",
    "preprocessing = Pipeline([\n",
    "    Scaler()\n",
    "])"
   ],
   "metadata": {
    "collapsed": false,
    "ExecuteTime": {
     "start_time": "2023-04-11T15:48:54.274523Z",
     "end_time": "2023-04-11T15:48:54.277969Z"
    }
   }
  },
  {
   "cell_type": "markdown",
   "source": [
    "The we define our hyperparameters, which can either be set as `HyperParameters` or sampled from a distribution with `BayesOptHyperparameter`\n",
    "\n",
    "for more info on which method are available, see documentation [here](https://optuna.readthedocs.io/en/stable/reference/generated/optuna.trial.Trial.html)"
   ],
   "metadata": {
    "collapsed": false
   }
  },
  {
   "cell_type": "code",
   "execution_count": null,
   "outputs": [],
   "source": [
    "hparams  = [\n",
    "    HyperParameter(\n",
    "        name='model',\n",
    "        value='LSTM'\n",
    "    ),\n",
    "    HyperParameter(\n",
    "        name='hidden_dim',\n",
    "        value=20,\n",
    "    ),\n",
    "    HyperParameter(\n",
    "        name='input_chunk_length',\n",
    "        value=24*7,\n",
    "    ),\n",
    "    HyperParameter(\n",
    "        name='n_epochs',\n",
    "        value=10\n",
    "    ),\n",
    "    HyperParameter(\n",
    "        name='optimizer_kwargs',\n",
    "        value= {\"lr\": 1e-3}\n",
    "    )\n",
    "]"
   ],
   "metadata": {
    "collapsed": false,
    "ExecuteTime": {
     "start_time": "2023-04-11T15:48:59.225293Z",
     "end_time": "2023-04-11T15:48:59.244857Z"
    }
   }
  },
  {
   "cell_type": "markdown",
   "source": [
    "Once this is done we can define our experiment"
   ],
   "metadata": {
    "collapsed": false
   }
  },
  {
   "cell_type": "code",
   "execution_count": null,
   "outputs": [],
   "source": [
    "params = Experiment(\n",
    "    dataset=dataset,\n",
    "    preprocessing=preprocessing,\n",
    "    model=model,\n",
    "    hyper_parameters=hparams,\n",
    "    metric=mae,\n",
    "    horizon=24*7,           # Horizon for prediction\n",
    "    optuna_timeout=60,   # Time allocated for HParam search in seconds\n",
    "    n_backtest=100,           # Number of validation samples for the backtest, means len(valid_dataset)\n",
    "    n_train_samples=500     # Number of samples for our .fit(), means len(train_dataset)\n",
    ")"
   ],
   "metadata": {
    "collapsed": false,
    "ExecuteTime": {
     "start_time": "2023-04-11T15:49:01.304435Z",
     "end_time": "2023-04-11T15:49:01.349019Z"
    }
   }
  },
  {
   "cell_type": "markdown",
   "source": [
    "The we run the experiment and save the logs in our ipynb"
   ],
   "metadata": {
    "collapsed": false
   }
  },
  {
   "cell_type": "code",
   "execution_count": null,
   "outputs": [],
   "source": [
    "# get loads of warnings\n",
    "import warnings\n",
    "warnings.simplefilter(\"ignore\", category=UserWarning)"
   ],
   "metadata": {
    "collapsed": false,
    "ExecuteTime": {
     "start_time": "2023-04-11T15:49:02.881799Z",
     "end_time": "2023-04-11T15:49:02.896138Z"
    }
   }
  },
  {
   "cell_type": "code",
   "execution_count": null,
   "outputs": [],
   "source": [
    "pipeline = ExperimentPipeline(params)\n",
    "pipeline.run()"
   ],
   "metadata": {
    "collapsed": false,
    "ExecuteTime": {
     "start_time": "2023-04-11T15:30:16.430138Z",
     "end_time": "2023-04-11T15:31:12.250372Z"
    }
   }
  },
  {
   "cell_type": "code",
   "execution_count": null,
   "outputs": [],
   "source": [
    "series = pipeline.data['train'].append(pipeline.data['valid'])\n",
    "\n",
    "model = RNNModel(\n",
    "    model='LSTM',\n",
    "    hidden_dim=20,\n",
    "    input_chunk_length=24*7,\n",
    "    n_epochs=10,\n",
    "    optimizer_kwargs= {\"lr\": 1e-3},\n",
    ")\n",
    "\n",
    "model.fit(series)\n",
    "\n",
    "preds = model.predict(n=24*7)\n",
    "preds.plot(label='prediction')\n",
    "\n",
    "pipeline.data['test'][:24*7].plot(label='truth')"
   ],
   "metadata": {
    "collapsed": false,
    "ExecuteTime": {
     "start_time": "2023-04-11T15:33:04.422011Z",
     "end_time": "2023-04-11T15:35:03.561181Z"
    }
   }
  },
  {
   "cell_type": "code",
   "execution_count": null,
   "outputs": [],
   "source": [
    "# evaluate with full backtest on test data\n",
    "\n",
    "model.backtest(\n",
    "    series=series.append(pipeline.data['test']) + 1e-9,\n",
    "    start=len(series),\n",
    "    forecast_horizon=24*7,\n",
    "    retrain=isinstance(model, LocalForecastingModel),\n",
    "    metric=mae,\n",
    ")"
   ],
   "metadata": {
    "collapsed": false
   }
  }
 ],
 "metadata": {
  "kernelspec": {
   "display_name": "Python 3",
   "language": "python",
   "name": "python3"
  },
  "language_info": {
   "codemirror_mode": {
    "name": "ipython",
    "version": 2
   },
   "file_extension": ".py",
   "mimetype": "text/x-python",
   "name": "python",
   "nbconvert_exporter": "python",
   "pygments_lexer": "ipython2",
   "version": "2.7.6"
  }
 },
 "nbformat": 4,
 "nbformat_minor": 0
}
