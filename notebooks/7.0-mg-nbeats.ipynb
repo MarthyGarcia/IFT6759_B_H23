{
 "cells": [
  {
   "cell_type": "markdown",
   "metadata": {
    "collapsed": false
   },
   "source": [
    "# HParam Search Example"
   ]
  },
  {
   "cell_type": "code",
   "execution_count": 1,
   "metadata": {
    "ExecuteTime": {
     "end_time": "2023-03-31T17:46:24.938396Z",
     "start_time": "2023-03-31T17:46:24.658568Z"
    },
    "collapsed": false
   },
   "outputs": [
    {
     "name": "stdout",
     "output_type": "stream",
     "text": [
      "/Users/marthygarcia/Documents/GitHub/IFT6759_B_H23\n"
     ]
    }
   ],
   "source": [
    "%cd .."
   ]
  },
  {
   "cell_type": "code",
   "execution_count": 2,
   "metadata": {
    "ExecuteTime": {
     "end_time": "2023-03-31T17:46:31.314623Z",
     "start_time": "2023-03-31T17:46:24.668900Z"
    },
    "collapsed": false
   },
   "outputs": [
    {
     "ename": "ModuleNotFoundError",
     "evalue": "No module named 'darts'",
     "output_type": "error",
     "traceback": [
      "\u001b[0;31m---------------------------------------------------------------------------\u001b[0m",
      "\u001b[0;31mModuleNotFoundError\u001b[0m                       Traceback (most recent call last)",
      "Cell \u001b[0;32mIn[2], line 1\u001b[0m\n\u001b[0;32m----> 1\u001b[0m \u001b[39mfrom\u001b[39;00m \u001b[39mdarts\u001b[39;00m\u001b[39m.\u001b[39;00m\u001b[39mmetrics\u001b[39;00m \u001b[39mimport\u001b[39;00m mae\n\u001b[1;32m      2\u001b[0m \u001b[39mfrom\u001b[39;00m \u001b[39msrc\u001b[39;00m\u001b[39m.\u001b[39;00m\u001b[39mpipeline\u001b[39;00m\u001b[39m.\u001b[39;00m\u001b[39mpipeline\u001b[39;00m \u001b[39mimport\u001b[39;00m ExperimentPipeline\n\u001b[1;32m      3\u001b[0m \u001b[39mfrom\u001b[39;00m \u001b[39mdarts\u001b[39;00m\u001b[39m.\u001b[39;00m\u001b[39mmodels\u001b[39;00m \u001b[39mimport\u001b[39;00m ExponentialSmoothing\n",
      "\u001b[0;31mModuleNotFoundError\u001b[0m: No module named 'darts'"
     ]
    }
   ],
   "source": [
    "from darts.metrics import mae\n",
    "from src.pipeline.pipeline import ExperimentPipeline\n",
    "from darts.models import ExponentialSmoothing\n",
    "from src.pipeline.experiment import Experiment, HyperParameter, BayesOptHyperParameter\n",
    "from darts.dataprocessing.transformers import Scaler\n",
    "from darts.dataprocessing import Pipeline\n",
    "from darts.utils.utils import ModelMode"
   ]
  },
  {
   "cell_type": "markdown",
   "metadata": {
    "collapsed": false
   },
   "source": [
    "We first define our dataset and algorithm"
   ]
  },
  {
   "cell_type": "code",
   "execution_count": 3,
   "metadata": {
    "ExecuteTime": {
     "end_time": "2023-03-31T17:46:31.314980Z",
     "start_time": "2023-03-31T17:46:31.314555Z"
    },
    "collapsed": false
   },
   "outputs": [],
   "source": [
    "# define dataset\n",
    "dataset = 'traffic'  # ['exchange_rate', 'traffic', 'electricity'], only uses first covariate"
   ]
  },
  {
   "cell_type": "code",
   "execution_count": 4,
   "metadata": {
    "ExecuteTime": {
     "end_time": "2023-03-31T17:46:31.315280Z",
     "start_time": "2023-03-31T17:46:31.314777Z"
    },
    "collapsed": false
   },
   "outputs": [],
   "source": [
    "# set DARTS model class\n",
    "model = ExponentialSmoothing"
   ]
  },
  {
   "cell_type": "code",
   "execution_count": 5,
   "metadata": {
    "ExecuteTime": {
     "end_time": "2023-03-31T17:46:31.315460Z",
     "start_time": "2023-03-31T17:46:31.314941Z"
    },
    "collapsed": false
   },
   "outputs": [],
   "source": [
    "# define preprocessing\n",
    "preprocessing = Pipeline([\n",
    "    Scaler()\n",
    "])"
   ]
  },
  {
   "cell_type": "markdown",
   "metadata": {
    "collapsed": false
   },
   "source": [
    "The we define our hyperparameters, which can either be set as `HyperParameters` or sampled from a distribution with `BayesOptHyperparameter`\n",
    "\n",
    "for more info on which method are available, see documentation [here](https://optuna.readthedocs.io/en/stable/reference/generated/optuna.trial.Trial.html)"
   ]
  },
  {
   "cell_type": "code",
   "execution_count": 6,
   "metadata": {
    "ExecuteTime": {
     "end_time": "2023-03-31T17:46:31.315617Z",
     "start_time": "2023-03-31T17:46:31.315105Z"
    },
    "collapsed": false
   },
   "outputs": [],
   "source": [
    "from darts.utils.utils import SeasonalityMode\n",
    "\n",
    "trend = HyperParameter(\n",
    "    name='trend',\n",
    "    value=ModelMode.NONE\n",
    ")\n",
    "\n",
    "period = HyperParameter(\n",
    "    name='seasonal_periods',\n",
    "    value=24\n",
    ")\n",
    "\n",
    "seasonal = BayesOptHyperParameter(\n",
    "    name='seasonal',\n",
    "    optuna_suggest_method='suggest_categorical',\n",
    "    value=dict(choices=[SeasonalityMode.ADDITIVE, SeasonalityMode.MULTIPLICATIVE, SeasonalityMode.NONE])\n",
    ")\n",
    "\n",
    "smoothing_level = BayesOptHyperParameter(\n",
    "    name='smoothing_level',\n",
    "    optuna_suggest_method='suggest_float',\n",
    "    value=dict(low=0, high=1)\n",
    ")\n",
    "\n",
    "hparams = [trend, period, seasonal, smoothing_level]"
   ]
  },
  {
   "cell_type": "markdown",
   "metadata": {
    "collapsed": false
   },
   "source": [
    "Once this is done we can define our experiment"
   ]
  },
  {
   "cell_type": "code",
   "execution_count": 7,
   "metadata": {
    "ExecuteTime": {
     "end_time": "2023-03-31T17:46:31.315781Z",
     "start_time": "2023-03-31T17:46:31.315334Z"
    },
    "collapsed": true
   },
   "outputs": [],
   "source": [
    "params = Experiment(\n",
    "    dataset=dataset,\n",
    "    preprocessing=preprocessing,\n",
    "    model=model,\n",
    "    hyper_parameters=hparams,\n",
    "    metric=mae,\n",
    "    horizon=24*7,           # Horizon for prediction\n",
    "    optuna_timeout=60,   # Time allocated for HParam search in seconds\n",
    "    n_backtest=100,           # Number of validation samples for the backtest, means len(valid_dataset)\n",
    "    n_train_samples=500     # Number of samples for our .fit(), means len(train_dataset)\n",
    ")"
   ]
  },
  {
   "cell_type": "markdown",
   "metadata": {
    "collapsed": false
   },
   "source": [
    "The we run the experiment and save the logs in our ipynb"
   ]
  },
  {
   "cell_type": "code",
   "execution_count": 8,
   "metadata": {
    "ExecuteTime": {
     "end_time": "2023-03-31T17:46:31.315978Z",
     "start_time": "2023-03-31T17:46:31.315498Z"
    },
    "collapsed": false
   },
   "outputs": [],
   "source": [
    "# get loads of warnings\n",
    "import warnings\n",
    "warnings.simplefilter(\"ignore\", category=UserWarning)"
   ]
  },
  {
   "cell_type": "code",
   "execution_count": 9,
   "metadata": {
    "ExecuteTime": {
     "end_time": "2023-03-31T17:47:37.052379Z",
     "start_time": "2023-03-31T17:46:31.315691Z"
    },
    "collapsed": false
   },
   "outputs": [
    {
     "name": "stdout",
     "output_type": "stream",
     "text": [
      "Fetching Data ...\n"
     ]
    },
    {
     "name": "stderr",
     "output_type": "stream",
     "text": [
      "\u001b[32m[I 2023-03-31 17:46:35,845]\u001b[0m A new study created in memory with name: no-name-ad1a2bd9-fb7a-4829-92df-2ddba692fdd2\u001b[0m\n"
     ]
    },
    {
     "name": "stdout",
     "output_type": "stream",
     "text": [
      "Beginning Optimization\n"
     ]
    },
    {
     "data": {
      "application/vnd.jupyter.widget-view+json": {
       "model_id": "ef17886d5ace4bd7ba1dd2ba8f44dd13",
       "version_major": 2,
       "version_minor": 0
      },
      "text/plain": [
       "  0%|          | 0/101 [00:00<?, ?it/s]"
      ]
     },
     "metadata": {},
     "output_type": "display_data"
    },
    {
     "name": "stderr",
     "output_type": "stream",
     "text": [
      "\u001b[32m[I 2023-03-31 17:46:39,551]\u001b[0m Trial 0 finished with value: 0.027987663616941546 and parameters: {'seasonal': <SeasonalityMode.ADDITIVE: 'additive'>, 'smoothing_level': 0.8772298910821964}. Best is trial 0 with value: 0.027987663616941546.\u001b[0m\n"
     ]
    },
    {
     "name": "stdout",
     "output_type": "stream",
     "text": [
      "Current value: 0.027987663616941546, Current params: {'seasonal': <SeasonalityMode.ADDITIVE: 'additive'>, 'smoothing_level': 0.8772298910821964}\n",
      "Best value: 0.027987663616941546, Best params: {'seasonal': <SeasonalityMode.ADDITIVE: 'additive'>, 'smoothing_level': 0.8772298910821964}\n"
     ]
    },
    {
     "data": {
      "application/vnd.jupyter.widget-view+json": {
       "model_id": "d69c7c4b465f4062babb43c735c457f0",
       "version_major": 2,
       "version_minor": 0
      },
      "text/plain": [
       "  0%|          | 0/101 [00:00<?, ?it/s]"
      ]
     },
     "metadata": {},
     "output_type": "display_data"
    },
    {
     "name": "stderr",
     "output_type": "stream",
     "text": [
      "\u001b[32m[I 2023-03-31 17:46:40,667]\u001b[0m Trial 1 finished with value: 0.06792628112355305 and parameters: {'seasonal': <SeasonalityMode.NONE: None>, 'smoothing_level': 0.05676421188022307}. Best is trial 0 with value: 0.027987663616941546.\u001b[0m\n"
     ]
    },
    {
     "name": "stdout",
     "output_type": "stream",
     "text": [
      "Current value: 0.06792628112355305, Current params: {'seasonal': <SeasonalityMode.NONE: None>, 'smoothing_level': 0.05676421188022307}\n",
      "Best value: 0.027987663616941546, Best params: {'seasonal': <SeasonalityMode.ADDITIVE: 'additive'>, 'smoothing_level': 0.8772298910821964}\n"
     ]
    },
    {
     "data": {
      "application/vnd.jupyter.widget-view+json": {
       "model_id": "4e664ae4a17244eea9441f4ba465419a",
       "version_major": 2,
       "version_minor": 0
      },
      "text/plain": [
       "  0%|          | 0/101 [00:00<?, ?it/s]"
      ]
     },
     "metadata": {},
     "output_type": "display_data"
    },
    {
     "name": "stderr",
     "output_type": "stream",
     "text": [
      "\u001b[32m[I 2023-03-31 17:46:43,614]\u001b[0m Trial 2 finished with value: 0.03258261037223224 and parameters: {'seasonal': <SeasonalityMode.ADDITIVE: 'additive'>, 'smoothing_level': 0.546927794572115}. Best is trial 0 with value: 0.027987663616941546.\u001b[0m\n"
     ]
    },
    {
     "name": "stdout",
     "output_type": "stream",
     "text": [
      "Current value: 0.03258261037223224, Current params: {'seasonal': <SeasonalityMode.ADDITIVE: 'additive'>, 'smoothing_level': 0.546927794572115}\n",
      "Best value: 0.027987663616941546, Best params: {'seasonal': <SeasonalityMode.ADDITIVE: 'additive'>, 'smoothing_level': 0.8772298910821964}\n"
     ]
    },
    {
     "data": {
      "application/vnd.jupyter.widget-view+json": {
       "model_id": "bcb9b46ae06f48a0bd67f9e9dcb4b8f0",
       "version_major": 2,
       "version_minor": 0
      },
      "text/plain": [
       "  0%|          | 0/101 [00:00<?, ?it/s]"
      ]
     },
     "metadata": {},
     "output_type": "display_data"
    },
    {
     "name": "stderr",
     "output_type": "stream",
     "text": [
      "\u001b[32m[I 2023-03-31 17:46:47,748]\u001b[0m Trial 3 finished with value: 0.03307754610081612 and parameters: {'seasonal': <SeasonalityMode.MULTIPLICATIVE: 'multiplicative'>, 'smoothing_level': 0.17127533899267966}. Best is trial 0 with value: 0.027987663616941546.\u001b[0m\n"
     ]
    },
    {
     "name": "stdout",
     "output_type": "stream",
     "text": [
      "Current value: 0.03307754610081612, Current params: {'seasonal': <SeasonalityMode.MULTIPLICATIVE: 'multiplicative'>, 'smoothing_level': 0.17127533899267966}\n",
      "Best value: 0.027987663616941546, Best params: {'seasonal': <SeasonalityMode.ADDITIVE: 'additive'>, 'smoothing_level': 0.8772298910821964}\n"
     ]
    },
    {
     "data": {
      "application/vnd.jupyter.widget-view+json": {
       "model_id": "b71bb41b26804fea8a6f3a5447ae2f92",
       "version_major": 2,
       "version_minor": 0
      },
      "text/plain": [
       "  0%|          | 0/101 [00:00<?, ?it/s]"
      ]
     },
     "metadata": {},
     "output_type": "display_data"
    },
    {
     "name": "stderr",
     "output_type": "stream",
     "text": [
      "\u001b[32m[I 2023-03-31 17:46:48,710]\u001b[0m Trial 4 finished with value: 0.032308815540701384 and parameters: {'seasonal': <SeasonalityMode.NONE: None>, 'smoothing_level': 0.9514519896560371}. Best is trial 0 with value: 0.027987663616941546.\u001b[0m\n"
     ]
    },
    {
     "name": "stdout",
     "output_type": "stream",
     "text": [
      "Current value: 0.032308815540701384, Current params: {'seasonal': <SeasonalityMode.NONE: None>, 'smoothing_level': 0.9514519896560371}\n",
      "Best value: 0.027987663616941546, Best params: {'seasonal': <SeasonalityMode.ADDITIVE: 'additive'>, 'smoothing_level': 0.8772298910821964}\n"
     ]
    },
    {
     "data": {
      "application/vnd.jupyter.widget-view+json": {
       "model_id": "1ad2f910e12842ca85305f0ca33c609d",
       "version_major": 2,
       "version_minor": 0
      },
      "text/plain": [
       "  0%|          | 0/101 [00:00<?, ?it/s]"
      ]
     },
     "metadata": {},
     "output_type": "display_data"
    },
    {
     "name": "stderr",
     "output_type": "stream",
     "text": [
      "\u001b[32m[I 2023-03-31 17:46:52,350]\u001b[0m Trial 5 finished with value: 0.020292069137655164 and parameters: {'seasonal': <SeasonalityMode.MULTIPLICATIVE: 'multiplicative'>, 'smoothing_level': 0.7898884688052066}. Best is trial 5 with value: 0.020292069137655164.\u001b[0m\n"
     ]
    },
    {
     "name": "stdout",
     "output_type": "stream",
     "text": [
      "Current value: 0.020292069137655164, Current params: {'seasonal': <SeasonalityMode.MULTIPLICATIVE: 'multiplicative'>, 'smoothing_level': 0.7898884688052066}\n",
      "Best value: 0.020292069137655164, Best params: {'seasonal': <SeasonalityMode.MULTIPLICATIVE: 'multiplicative'>, 'smoothing_level': 0.7898884688052066}\n"
     ]
    },
    {
     "data": {
      "application/vnd.jupyter.widget-view+json": {
       "model_id": "48326b6875d04043a22ffcc30a1dcc34",
       "version_major": 2,
       "version_minor": 0
      },
      "text/plain": [
       "  0%|          | 0/101 [00:00<?, ?it/s]"
      ]
     },
     "metadata": {},
     "output_type": "display_data"
    },
    {
     "name": "stderr",
     "output_type": "stream",
     "text": [
      "\u001b[32m[I 2023-03-31 17:46:55,976]\u001b[0m Trial 6 finished with value: 0.020396097793467828 and parameters: {'seasonal': <SeasonalityMode.MULTIPLICATIVE: 'multiplicative'>, 'smoothing_level': 0.7864529125218804}. Best is trial 5 with value: 0.020292069137655164.\u001b[0m\n"
     ]
    },
    {
     "name": "stdout",
     "output_type": "stream",
     "text": [
      "Current value: 0.020396097793467828, Current params: {'seasonal': <SeasonalityMode.MULTIPLICATIVE: 'multiplicative'>, 'smoothing_level': 0.7864529125218804}\n",
      "Best value: 0.020292069137655164, Best params: {'seasonal': <SeasonalityMode.MULTIPLICATIVE: 'multiplicative'>, 'smoothing_level': 0.7898884688052066}\n"
     ]
    },
    {
     "data": {
      "application/vnd.jupyter.widget-view+json": {
       "model_id": "df36a594dfde4e9c942aacbdbc7280bd",
       "version_major": 2,
       "version_minor": 0
      },
      "text/plain": [
       "  0%|          | 0/101 [00:00<?, ?it/s]"
      ]
     },
     "metadata": {},
     "output_type": "display_data"
    },
    {
     "name": "stderr",
     "output_type": "stream",
     "text": [
      "\u001b[32m[I 2023-03-31 17:46:56,971]\u001b[0m Trial 7 finished with value: 0.03279735502953283 and parameters: {'seasonal': <SeasonalityMode.NONE: None>, 'smoothing_level': 0.9329751436650957}. Best is trial 5 with value: 0.020292069137655164.\u001b[0m\n"
     ]
    },
    {
     "name": "stdout",
     "output_type": "stream",
     "text": [
      "Current value: 0.03279735502953283, Current params: {'seasonal': <SeasonalityMode.NONE: None>, 'smoothing_level': 0.9329751436650957}\n",
      "Best value: 0.020292069137655164, Best params: {'seasonal': <SeasonalityMode.MULTIPLICATIVE: 'multiplicative'>, 'smoothing_level': 0.7898884688052066}\n"
     ]
    },
    {
     "data": {
      "application/vnd.jupyter.widget-view+json": {
       "model_id": "18de373201754b368ef10c706d09b46c",
       "version_major": 2,
       "version_minor": 0
      },
      "text/plain": [
       "  0%|          | 0/101 [00:00<?, ?it/s]"
      ]
     },
     "metadata": {},
     "output_type": "display_data"
    },
    {
     "name": "stderr",
     "output_type": "stream",
     "text": [
      "\u001b[32m[I 2023-03-31 17:47:00,988]\u001b[0m Trial 8 finished with value: 0.029369788235478523 and parameters: {'seasonal': <SeasonalityMode.MULTIPLICATIVE: 'multiplicative'>, 'smoothing_level': 0.34823524330674516}. Best is trial 5 with value: 0.020292069137655164.\u001b[0m\n"
     ]
    },
    {
     "name": "stdout",
     "output_type": "stream",
     "text": [
      "Current value: 0.029369788235478523, Current params: {'seasonal': <SeasonalityMode.MULTIPLICATIVE: 'multiplicative'>, 'smoothing_level': 0.34823524330674516}\n",
      "Best value: 0.020292069137655164, Best params: {'seasonal': <SeasonalityMode.MULTIPLICATIVE: 'multiplicative'>, 'smoothing_level': 0.7898884688052066}\n"
     ]
    },
    {
     "data": {
      "application/vnd.jupyter.widget-view+json": {
       "model_id": "9ed6d2088ffc4070b8e6ab42a720ef77",
       "version_major": 2,
       "version_minor": 0
      },
      "text/plain": [
       "  0%|          | 0/101 [00:00<?, ?it/s]"
      ]
     },
     "metadata": {},
     "output_type": "display_data"
    },
    {
     "name": "stderr",
     "output_type": "stream",
     "text": [
      "\u001b[32m[I 2023-03-31 17:47:04,631]\u001b[0m Trial 9 finished with value: 0.02359402070246738 and parameters: {'seasonal': <SeasonalityMode.MULTIPLICATIVE: 'multiplicative'>, 'smoothing_level': 0.6099194245339391}. Best is trial 5 with value: 0.020292069137655164.\u001b[0m\n"
     ]
    },
    {
     "name": "stdout",
     "output_type": "stream",
     "text": [
      "Current value: 0.02359402070246738, Current params: {'seasonal': <SeasonalityMode.MULTIPLICATIVE: 'multiplicative'>, 'smoothing_level': 0.6099194245339391}\n",
      "Best value: 0.020292069137655164, Best params: {'seasonal': <SeasonalityMode.MULTIPLICATIVE: 'multiplicative'>, 'smoothing_level': 0.7898884688052066}\n"
     ]
    },
    {
     "data": {
      "application/vnd.jupyter.widget-view+json": {
       "model_id": "8cd6322d07ea4be193b0d7b1775e47f7",
       "version_major": 2,
       "version_minor": 0
      },
      "text/plain": [
       "  0%|          | 0/101 [00:00<?, ?it/s]"
      ]
     },
     "metadata": {},
     "output_type": "display_data"
    },
    {
     "name": "stderr",
     "output_type": "stream",
     "text": [
      "\u001b[32m[I 2023-03-31 17:47:08,335]\u001b[0m Trial 10 finished with value: 0.022686426760704485 and parameters: {'seasonal': <SeasonalityMode.MULTIPLICATIVE: 'multiplicative'>, 'smoothing_level': 0.6453762813418648}. Best is trial 5 with value: 0.020292069137655164.\u001b[0m\n"
     ]
    },
    {
     "name": "stdout",
     "output_type": "stream",
     "text": [
      "Current value: 0.022686426760704485, Current params: {'seasonal': <SeasonalityMode.MULTIPLICATIVE: 'multiplicative'>, 'smoothing_level': 0.6453762813418648}\n",
      "Best value: 0.020292069137655164, Best params: {'seasonal': <SeasonalityMode.MULTIPLICATIVE: 'multiplicative'>, 'smoothing_level': 0.7898884688052066}\n"
     ]
    },
    {
     "data": {
      "application/vnd.jupyter.widget-view+json": {
       "model_id": "bd6e7bc7e0654b14a67f1d18701e29a6",
       "version_major": 2,
       "version_minor": 0
      },
      "text/plain": [
       "  0%|          | 0/101 [00:00<?, ?it/s]"
      ]
     },
     "metadata": {},
     "output_type": "display_data"
    },
    {
     "name": "stderr",
     "output_type": "stream",
     "text": [
      "\u001b[32m[I 2023-03-31 17:47:11,847]\u001b[0m Trial 11 finished with value: 0.020306619107677497 and parameters: {'seasonal': <SeasonalityMode.MULTIPLICATIVE: 'multiplicative'>, 'smoothing_level': 0.8021242488761042}. Best is trial 5 with value: 0.020292069137655164.\u001b[0m\n"
     ]
    },
    {
     "name": "stdout",
     "output_type": "stream",
     "text": [
      "Current value: 0.020306619107677497, Current params: {'seasonal': <SeasonalityMode.MULTIPLICATIVE: 'multiplicative'>, 'smoothing_level': 0.8021242488761042}\n",
      "Best value: 0.020292069137655164, Best params: {'seasonal': <SeasonalityMode.MULTIPLICATIVE: 'multiplicative'>, 'smoothing_level': 0.7898884688052066}\n"
     ]
    },
    {
     "data": {
      "application/vnd.jupyter.widget-view+json": {
       "model_id": "47818fcafeeb4c41b00c67194beaa711",
       "version_major": 2,
       "version_minor": 0
      },
      "text/plain": [
       "  0%|          | 0/101 [00:00<?, ?it/s]"
      ]
     },
     "metadata": {},
     "output_type": "display_data"
    },
    {
     "name": "stderr",
     "output_type": "stream",
     "text": [
      "\u001b[32m[I 2023-03-31 17:47:15,891]\u001b[0m Trial 12 finished with value: 0.020466503819859583 and parameters: {'seasonal': <SeasonalityMode.MULTIPLICATIVE: 'multiplicative'>, 'smoothing_level': 0.7504128819747057}. Best is trial 5 with value: 0.020292069137655164.\u001b[0m\n"
     ]
    },
    {
     "name": "stdout",
     "output_type": "stream",
     "text": [
      "Current value: 0.020466503819859583, Current params: {'seasonal': <SeasonalityMode.MULTIPLICATIVE: 'multiplicative'>, 'smoothing_level': 0.7504128819747057}\n",
      "Best value: 0.020292069137655164, Best params: {'seasonal': <SeasonalityMode.MULTIPLICATIVE: 'multiplicative'>, 'smoothing_level': 0.7898884688052066}\n"
     ]
    },
    {
     "data": {
      "application/vnd.jupyter.widget-view+json": {
       "model_id": "2b962918bf064d9792f789a3662fdd11",
       "version_major": 2,
       "version_minor": 0
      },
      "text/plain": [
       "  0%|          | 0/101 [00:00<?, ?it/s]"
      ]
     },
     "metadata": {},
     "output_type": "display_data"
    },
    {
     "name": "stderr",
     "output_type": "stream",
     "text": [
      "\u001b[32m[I 2023-03-31 17:47:20,196]\u001b[0m Trial 13 finished with value: 0.020560148402013024 and parameters: {'seasonal': <SeasonalityMode.MULTIPLICATIVE: 'multiplicative'>, 'smoothing_level': 0.7671842039313891}. Best is trial 5 with value: 0.020292069137655164.\u001b[0m\n"
     ]
    },
    {
     "name": "stdout",
     "output_type": "stream",
     "text": [
      "Current value: 0.020560148402013024, Current params: {'seasonal': <SeasonalityMode.MULTIPLICATIVE: 'multiplicative'>, 'smoothing_level': 0.7671842039313891}\n",
      "Best value: 0.020292069137655164, Best params: {'seasonal': <SeasonalityMode.MULTIPLICATIVE: 'multiplicative'>, 'smoothing_level': 0.7898884688052066}\n"
     ]
    },
    {
     "data": {
      "application/vnd.jupyter.widget-view+json": {
       "model_id": "14c7e022ebf643df8ef53beed554e2fc",
       "version_major": 2,
       "version_minor": 0
      },
      "text/plain": [
       "  0%|          | 0/101 [00:00<?, ?it/s]"
      ]
     },
     "metadata": {},
     "output_type": "display_data"
    },
    {
     "name": "stderr",
     "output_type": "stream",
     "text": [
      "\u001b[32m[I 2023-03-31 17:47:24,283]\u001b[0m Trial 14 finished with value: 0.01853243590078263 and parameters: {'seasonal': <SeasonalityMode.MULTIPLICATIVE: 'multiplicative'>, 'smoothing_level': 0.9865616409375795}. Best is trial 14 with value: 0.01853243590078263.\u001b[0m\n"
     ]
    },
    {
     "name": "stdout",
     "output_type": "stream",
     "text": [
      "Current value: 0.01853243590078263, Current params: {'seasonal': <SeasonalityMode.MULTIPLICATIVE: 'multiplicative'>, 'smoothing_level': 0.9865616409375795}\n",
      "Best value: 0.01853243590078263, Best params: {'seasonal': <SeasonalityMode.MULTIPLICATIVE: 'multiplicative'>, 'smoothing_level': 0.9865616409375795}\n"
     ]
    },
    {
     "data": {
      "application/vnd.jupyter.widget-view+json": {
       "model_id": "c69887d1c3534390b50c379bd659bb31",
       "version_major": 2,
       "version_minor": 0
      },
      "text/plain": [
       "  0%|          | 0/101 [00:00<?, ?it/s]"
      ]
     },
     "metadata": {},
     "output_type": "display_data"
    },
    {
     "name": "stderr",
     "output_type": "stream",
     "text": [
      "\u001b[32m[I 2023-03-31 17:47:28,276]\u001b[0m Trial 15 finished with value: 0.0285326246802305 and parameters: {'seasonal': <SeasonalityMode.ADDITIVE: 'additive'>, 'smoothing_level': 0.9925680447213894}. Best is trial 14 with value: 0.01853243590078263.\u001b[0m\n"
     ]
    },
    {
     "name": "stdout",
     "output_type": "stream",
     "text": [
      "Current value: 0.0285326246802305, Current params: {'seasonal': <SeasonalityMode.ADDITIVE: 'additive'>, 'smoothing_level': 0.9925680447213894}\n",
      "Best value: 0.01853243590078263, Best params: {'seasonal': <SeasonalityMode.MULTIPLICATIVE: 'multiplicative'>, 'smoothing_level': 0.9865616409375795}\n"
     ]
    },
    {
     "data": {
      "application/vnd.jupyter.widget-view+json": {
       "model_id": "5008dd702edf4499ac869157e51dadbb",
       "version_major": 2,
       "version_minor": 0
      },
      "text/plain": [
       "  0%|          | 0/101 [00:00<?, ?it/s]"
      ]
     },
     "metadata": {},
     "output_type": "display_data"
    },
    {
     "name": "stderr",
     "output_type": "stream",
     "text": [
      "\u001b[32m[I 2023-03-31 17:47:32,632]\u001b[0m Trial 16 finished with value: 0.018358708258055256 and parameters: {'seasonal': <SeasonalityMode.MULTIPLICATIVE: 'multiplicative'>, 'smoothing_level': 0.9958404863116908}. Best is trial 16 with value: 0.018358708258055256.\u001b[0m\n"
     ]
    },
    {
     "name": "stdout",
     "output_type": "stream",
     "text": [
      "Current value: 0.018358708258055256, Current params: {'seasonal': <SeasonalityMode.MULTIPLICATIVE: 'multiplicative'>, 'smoothing_level': 0.9958404863116908}\n",
      "Best value: 0.018358708258055256, Best params: {'seasonal': <SeasonalityMode.MULTIPLICATIVE: 'multiplicative'>, 'smoothing_level': 0.9958404863116908}\n"
     ]
    },
    {
     "data": {
      "application/vnd.jupyter.widget-view+json": {
       "model_id": "b0431ebde380469c9a7b9fdf9a8e4511",
       "version_major": 2,
       "version_minor": 0
      },
      "text/plain": [
       "  0%|          | 0/101 [00:00<?, ?it/s]"
      ]
     },
     "metadata": {},
     "output_type": "display_data"
    },
    {
     "name": "stderr",
     "output_type": "stream",
     "text": [
      "\u001b[32m[I 2023-03-31 17:47:36,723]\u001b[0m Trial 17 finished with value: 0.018468804192588218 and parameters: {'seasonal': <SeasonalityMode.MULTIPLICATIVE: 'multiplicative'>, 'smoothing_level': 0.981666636667883}. Best is trial 16 with value: 0.018358708258055256.\u001b[0m\n"
     ]
    },
    {
     "name": "stdout",
     "output_type": "stream",
     "text": [
      "Current value: 0.018468804192588218, Current params: {'seasonal': <SeasonalityMode.MULTIPLICATIVE: 'multiplicative'>, 'smoothing_level': 0.981666636667883}\n",
      "Best value: 0.018358708258055256, Best params: {'seasonal': <SeasonalityMode.MULTIPLICATIVE: 'multiplicative'>, 'smoothing_level': 0.9958404863116908}\n",
      "Best value: 0.018358708258055256, Best params: {'seasonal': <SeasonalityMode.MULTIPLICATIVE: 'multiplicative'>, 'smoothing_level': 0.9958404863116908}\n"
     ]
    }
   ],
   "source": [
    "pipeline = ExperimentPipeline(params)\n",
    "pipeline.run()"
   ]
  },
  {
   "cell_type": "code",
   "execution_count": 11,
   "metadata": {
    "ExecuteTime": {
     "end_time": "2023-03-31T17:49:05.963069Z",
     "start_time": "2023-03-31T17:49:05.289574Z"
    },
    "collapsed": false
   },
   "outputs": [
    {
     "data": {
      "image/png": "[encoded data removed]",
      "text/plain": [
       "<Figure size 640x480 with 1 Axes>"
      ]
     },
     "metadata": {},
     "output_type": "display_data"
    }
   ],
   "source": [
    "series = pipeline.data['train'].append(pipeline.data['valid'])\n",
    "\n",
    "model = ExponentialSmoothing(\n",
    "    trend=ModelMode.NONE,\n",
    "    seasonal_periods=24,\n",
    "    seasonal=SeasonalityMode.MULTIPLICATIVE,\n",
    "    smoothing_level=0.9958404863116908\n",
    ")\n",
    "\n",
    "model.fit(series[-500:])\n",
    "\n",
    "preds = model.predict(n=24*7)\n",
    "preds.plot(label='prediction')\n",
    "\n",
    "pipeline.data['test'][:24*7].plot(label='truth')"
   ]
  },
  {
   "cell_type": "code",
   "execution_count": null,
   "metadata": {
    "collapsed": false,
    "pycharm": {
     "is_executing": true
    }
   },
   "outputs": [],
   "source": [
    "# evaluate with full backtest on test data\n",
    "\n",
    "model.backtest(\n",
    "    series=series.append(pipeline.data['test']),\n",
    "    start=len(series),\n",
    "    train_length=500,\n",
    "    forecast_horizon=24*7\n",
    ")"
   ]
  }
 ],
 "metadata": {
  "kernelspec": {
   "display_name": "py10",
   "language": "python",
   "name": "python3"
  },
  "language_info": {
   "codemirror_mode": {
    "name": "ipython",
    "version": 3
   },
   "file_extension": ".py",
   "mimetype": "text/x-python",
   "name": "python",
   "nbconvert_exporter": "python",
   "pygments_lexer": "ipython3",
   "version": "3.10.10"
  },
  "vscode": {
   "interpreter": {
    "hash": "1b81d18d39ffb5d3d09b2844c225be4f9045930bed25f36f268280f3dadb1d85"
   }
  }
 },
 "nbformat": 4,
 "nbformat_minor": 0
}
