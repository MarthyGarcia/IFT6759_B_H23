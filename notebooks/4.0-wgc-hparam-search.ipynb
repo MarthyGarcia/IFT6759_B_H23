{
 "cells": [
  {
   "cell_type": "markdown",
   "source": [
    "# HParam Search Example"
   ],
   "metadata": {
    "collapsed": false
   }
  },
  {
   "cell_type": "code",
   "execution_count": 1,
   "outputs": [
    {
     "name": "stdout",
     "output_type": "stream",
     "text": [
      "/home/williamglazer/Documents/school/projet/IFT6759_B_H23\n"
     ]
    }
   ],
   "source": [
    "%cd .."
   ],
   "metadata": {
    "collapsed": false,
    "ExecuteTime": {
     "start_time": "2023-03-31T16:17:40.895572Z",
     "end_time": "2023-03-31T16:17:41.049241Z"
    }
   }
  },
  {
   "cell_type": "code",
   "execution_count": 2,
   "outputs": [
    {
     "name": "stderr",
     "output_type": "stream",
     "text": [
      "Empty pipeline created\n"
     ]
    }
   ],
   "source": [
    "from darts.metrics import mse\n",
    "from src.pipeline.pipeline import ExperimentPipeline\n",
    "from darts.models import ARIMA\n",
    "from src.pipeline.experiment import Experiment, HyperParameter, BayesOptHyperParameter"
   ],
   "metadata": {
    "collapsed": false,
    "ExecuteTime": {
     "start_time": "2023-03-31T16:17:40.895993Z",
     "end_time": "2023-03-31T16:17:45.230067Z"
    }
   }
  },
  {
   "cell_type": "markdown",
   "source": [
    "We first define our dataset and algorithm"
   ],
   "metadata": {
    "collapsed": false
   }
  },
  {
   "cell_type": "code",
   "execution_count": 3,
   "outputs": [],
   "source": [
    "# define dataset\n",
    "dataset = 'traffic'  # ['exchange_rate', 'traffic', 'electricity'], only uses first covariate"
   ],
   "metadata": {
    "collapsed": false,
    "ExecuteTime": {
     "start_time": "2023-03-31T16:17:45.233538Z",
     "end_time": "2023-03-31T16:17:45.235609Z"
    }
   }
  },
  {
   "cell_type": "code",
   "execution_count": 4,
   "outputs": [],
   "source": [
    "# set DARTS model class\n",
    "model = ARIMA"
   ],
   "metadata": {
    "collapsed": false,
    "ExecuteTime": {
     "start_time": "2023-03-31T16:17:45.238349Z",
     "end_time": "2023-03-31T16:17:45.241666Z"
    }
   }
  },
  {
   "cell_type": "markdown",
   "source": [
    "The we define our hyperparameters, which can either be set as `HyperParameters` or sampled from a distribution with `BayesOptHyperparameter`\n",
    "\n",
    "for more info on which method are available, see documentation [here](https://optuna.readthedocs.io/en/stable/reference/generated/optuna.trial.Trial.html)"
   ],
   "metadata": {
    "collapsed": false
   }
  },
  {
   "cell_type": "code",
   "execution_count": 5,
   "outputs": [],
   "source": [
    "# sample in linear space integers between 1 and 20\n",
    "p = BayesOptHyperParameter(\n",
    "    name='p',\n",
    "    optuna_suggest_method='suggest_int',\n",
    "    value=dict(low=1, high=20)\n",
    ")\n",
    "\n",
    "# sample in linear space intergers between 1 and 5\n",
    "q = BayesOptHyperParameter(\n",
    "    name='q',\n",
    "    optuna_suggest_method='suggest_int',\n",
    "    value=dict(low=1, high=5)\n",
    ")\n",
    "\n",
    "# set value to 3\n",
    "d = HyperParameter(name='d', value=3)"
   ],
   "metadata": {
    "collapsed": false,
    "ExecuteTime": {
     "start_time": "2023-03-31T16:17:45.245038Z",
     "end_time": "2023-03-31T16:17:45.286542Z"
    }
   }
  },
  {
   "cell_type": "markdown",
   "source": [
    "Once this is done we can define our experiment"
   ],
   "metadata": {
    "collapsed": false
   }
  },
  {
   "cell_type": "code",
   "execution_count": 6,
   "metadata": {
    "collapsed": true,
    "ExecuteTime": {
     "start_time": "2023-03-31T16:17:45.286497Z",
     "end_time": "2023-03-31T16:17:45.286781Z"
    }
   },
   "outputs": [],
   "source": [
    "params = Experiment(\n",
    "    dataset=dataset,\n",
    "    model=model,\n",
    "    hyper_parameters=[p,d,q],\n",
    "    metric=mse,\n",
    "    horizon=24*7,           # Horizon for prediction\n",
    "    optuna_timeout=60,      # Time allocated for HParam search in seconds\n",
    "    n_backtest=5,           # Number of validation samples for the backtest, means len(valid_dataset==5)\n",
    "    n_train_samples=100     # Number of samples for our .fit(), means len(train_dataset==100)\n",
    ")"
   ]
  },
  {
   "cell_type": "markdown",
   "source": [
    "The we run the experiment and save the logs in our ipynb"
   ],
   "metadata": {
    "collapsed": false
   }
  },
  {
   "cell_type": "code",
   "execution_count": 7,
   "outputs": [],
   "source": [
    "# get loads of warning from ARIMA model...\n",
    "import warnings\n",
    "warnings.simplefilter(\"ignore\", category=UserWarning)"
   ],
   "metadata": {
    "collapsed": false,
    "ExecuteTime": {
     "start_time": "2023-03-31T16:17:45.286652Z",
     "end_time": "2023-03-31T16:17:45.286997Z"
    }
   }
  },
  {
   "cell_type": "code",
   "execution_count": 8,
   "outputs": [
    {
     "name": "stdout",
     "output_type": "stream",
     "text": [
      "Fetching Data ...\n"
     ]
    },
    {
     "name": "stderr",
     "output_type": "stream",
     "text": [
      "\u001B[32m[I 2023-03-31 16:17:48,534]\u001B[0m A new study created in memory with name: no-name-186a93f4-b985-4053-8d0b-8df7fb9532a6\u001B[0m\n"
     ]
    },
    {
     "name": "stdout",
     "output_type": "stream",
     "text": [
      "Beginning Optimization\n"
     ]
    },
    {
     "data": {
      "text/plain": "  0%|          | 0/5 [00:00<?, ?it/s]",
      "application/vnd.jupyter.widget-view+json": {
       "version_major": 2,
       "version_minor": 0,
       "model_id": "ef5009dc7367485e84797ea258882d62"
      }
     },
     "metadata": {},
     "output_type": "display_data"
    },
    {
     "name": "stderr",
     "output_type": "stream",
     "text": [
      "\u001B[32m[I 2023-03-31 16:17:52,500]\u001B[0m Trial 0 finished with value: 0.00033437666214079803 and parameters: {'p': 6, 'q': 1}. Best is trial 0 with value: 0.00033437666214079803.\u001B[0m\n"
     ]
    },
    {
     "name": "stdout",
     "output_type": "stream",
     "text": [
      "Current value: 0.00033437666214079803, Current params: {'p': 6, 'q': 1}\n",
      "Best value: 0.00033437666214079803, Best params: {'p': 6, 'q': 1}\n"
     ]
    },
    {
     "data": {
      "text/plain": "  0%|          | 0/5 [00:00<?, ?it/s]",
      "application/vnd.jupyter.widget-view+json": {
       "version_major": 2,
       "version_minor": 0,
       "model_id": "267af752d2a144838e565d0cbc2ae430"
      }
     },
     "metadata": {},
     "output_type": "display_data"
    },
    {
     "name": "stderr",
     "output_type": "stream",
     "text": [
      "\u001B[32m[I 2023-03-31 16:18:15,830]\u001B[0m Trial 1 finished with value: 4.33110833517987e-05 and parameters: {'p': 13, 'q': 2}. Best is trial 1 with value: 4.33110833517987e-05.\u001B[0m\n"
     ]
    },
    {
     "name": "stdout",
     "output_type": "stream",
     "text": [
      "Current value: 4.33110833517987e-05, Current params: {'p': 13, 'q': 2}\n",
      "Best value: 4.33110833517987e-05, Best params: {'p': 13, 'q': 2}\n"
     ]
    },
    {
     "data": {
      "text/plain": "  0%|          | 0/5 [00:00<?, ?it/s]",
      "application/vnd.jupyter.widget-view+json": {
       "version_major": 2,
       "version_minor": 0,
       "model_id": "520963eed33b49c38cecba5e0e70eb90"
      }
     },
     "metadata": {},
     "output_type": "display_data"
    },
    {
     "name": "stderr",
     "output_type": "stream",
     "text": [
      "\u001B[32m[I 2023-03-31 16:18:18,313]\u001B[0m Trial 2 finished with value: 0.000132159465634363 and parameters: {'p': 4, 'q': 4}. Best is trial 1 with value: 4.33110833517987e-05.\u001B[0m\n"
     ]
    },
    {
     "name": "stdout",
     "output_type": "stream",
     "text": [
      "Current value: 0.000132159465634363, Current params: {'p': 4, 'q': 4}\n",
      "Best value: 4.33110833517987e-05, Best params: {'p': 13, 'q': 2}\n"
     ]
    },
    {
     "data": {
      "text/plain": "  0%|          | 0/5 [00:00<?, ?it/s]",
      "application/vnd.jupyter.widget-view+json": {
       "version_major": 2,
       "version_minor": 0,
       "model_id": "997db658965a4f9ca662c6bc9505a0a9"
      }
     },
     "metadata": {},
     "output_type": "display_data"
    },
    {
     "name": "stderr",
     "output_type": "stream",
     "text": [
      "\u001B[32m[I 2023-03-31 16:18:27,612]\u001B[0m Trial 3 finished with value: 0.0002752225339665988 and parameters: {'p': 8, 'q': 1}. Best is trial 1 with value: 4.33110833517987e-05.\u001B[0m\n"
     ]
    },
    {
     "name": "stdout",
     "output_type": "stream",
     "text": [
      "Current value: 0.0002752225339665988, Current params: {'p': 8, 'q': 1}\n",
      "Best value: 4.33110833517987e-05, Best params: {'p': 13, 'q': 2}\n"
     ]
    },
    {
     "data": {
      "text/plain": "  0%|          | 0/5 [00:00<?, ?it/s]",
      "application/vnd.jupyter.widget-view+json": {
       "version_major": 2,
       "version_minor": 0,
       "model_id": "7e1fa2953ae541c2b3eba915742d8b22"
      }
     },
     "metadata": {},
     "output_type": "display_data"
    },
    {
     "name": "stderr",
     "output_type": "stream",
     "text": [
      "\u001B[32m[I 2023-03-31 16:18:54,257]\u001B[0m Trial 4 finished with value: 7.652838802336903e-05 and parameters: {'p': 12, 'q': 5}. Best is trial 1 with value: 4.33110833517987e-05.\u001B[0m\n"
     ]
    },
    {
     "name": "stdout",
     "output_type": "stream",
     "text": [
      "Current value: 7.652838802336903e-05, Current params: {'p': 12, 'q': 5}\n",
      "Best value: 4.33110833517987e-05, Best params: {'p': 13, 'q': 2}\n",
      "Best value: 4.33110833517987e-05, Best params: {'p': 13, 'q': 2}\n"
     ]
    }
   ],
   "source": [
    "pipeline = ExperimentPipeline(params)\n",
    "pipeline.run()"
   ],
   "metadata": {
    "collapsed": false,
    "ExecuteTime": {
     "start_time": "2023-03-31T16:17:45.286764Z",
     "end_time": "2023-03-31T16:18:54.682465Z"
    }
   }
  }
 ],
 "metadata": {
  "kernelspec": {
   "display_name": "Python 3",
   "language": "python",
   "name": "python3"
  },
  "language_info": {
   "codemirror_mode": {
    "name": "ipython",
    "version": 2
   },
   "file_extension": ".py",
   "mimetype": "text/x-python",
   "name": "python",
   "nbconvert_exporter": "python",
   "pygments_lexer": "ipython2",
   "version": "2.7.6"
  }
 },
 "nbformat": 4,
 "nbformat_minor": 0
}
