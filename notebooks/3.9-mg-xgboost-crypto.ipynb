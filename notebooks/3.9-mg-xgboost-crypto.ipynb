{
  "cells": [
    {
      "cell_type": "markdown",
      "metadata": {
        "collapsed": false,
        "id": "L3Xo54p5x78t"
      },
      "source": [
        "# XGBOOST implementation in crypto dataset"
      ]
    },
    {
      "cell_type": "markdown",
      "metadata": {
        "id": "negrdP_Zy3fK"
      },
      "source": [
        "## 1. Load all requirements"
      ]
    },
    {
      "cell_type": "code",
      "execution_count": null,
      "metadata": {
        "ExecuteTime": {
          "end_time": "2023-03-31T17:46:24.938396Z",
          "start_time": "2023-03-31T17:46:24.658568Z"
        },
        "colab": {
          "base_uri": "https://localhost:8080/"
        },
        "id": "52z2Fbimx78v",
        "outputId": "3052d38d-d070-4a5a-81ed-528b307f5436"
      },
      "outputs": [
        {
          "output_type": "stream",
          "name": "stdout",
          "text": [
            "Cloning into 'IFT6759_B_H23'...\n",
            "remote: Enumerating objects: 347, done.\u001b[K\n",
            "remote: Counting objects: 100% (114/114), done.\u001b[K\n",
            "remote: Compressing objects: 100% (68/68), done.\u001b[K\n",
            "remote: Total 347 (delta 75), reused 62 (delta 46), pack-reused 233\u001b[K\n",
            "Receiving objects: 100% (347/347), 6.39 MiB | 8.98 MiB/s, done.\n",
            "Resolving deltas: 100% (199/199), done.\n",
            "/content/IFT6759_B_H23\n",
            "Reading package lists... Done\n",
            "Building dependency tree       \n",
            "Reading state information... Done\n",
            "binutils is already the newest version (2.34-6ubuntu1.4).\n",
            "binutils set to manually installed.\n",
            "0 upgraded, 0 newly installed, 0 to remove and 24 not upgraded.\n",
            "python3 test_environment.py\n",
            ">>> Development environment passes all tests!\n",
            "python3 -m pip install -U pip setuptools wheel\n",
            "Looking in indexes: https://pypi.org/simple, https://us-python.pkg.dev/colab-wheels/public/simple/\n",
            "Requirement already satisfied: pip in /usr/local/lib/python3.9/dist-packages (23.0.1)\n",
            "Collecting pip\n",
            "  Downloading pip-23.1-py3-none-any.whl (2.1 MB)\n",
            "\u001b[2K     \u001b[90m━━━━━━━━━━━━━━━━━━━━━━━━━━━━━━━━━━━━━━━━\u001b[0m \u001b[32m2.1/2.1 MB\u001b[0m \u001b[31m26.9 MB/s\u001b[0m eta \u001b[36m0:00:00\u001b[0m\n",
            "\u001b[?25hRequirement already satisfied: setuptools in /usr/local/lib/python3.9/dist-packages (67.6.1)\n",
            "Requirement already satisfied: wheel in /usr/local/lib/python3.9/dist-packages (0.40.0)\n",
            "Installing collected packages: pip\n",
            "  Attempting uninstall: pip\n",
            "    Found existing installation: pip 23.0.1\n",
            "    Uninstalling pip-23.0.1:\n",
            "      Successfully uninstalled pip-23.0.1\n",
            "Successfully installed pip-23.1\n",
            "python3 -m pip install -r requirements.txt\n",
            "Looking in indexes: https://pypi.org/simple, https://us-python.pkg.dev/colab-wheels/public/simple/\n",
            "Obtaining file:///content/IFT6759_B_H23 (from -r requirements.txt (line 2))\n",
            "  Preparing metadata (setup.py) ... \u001b[?25l\u001b[?25hdone\n",
            "Requirement already satisfied: click in /usr/local/lib/python3.9/dist-packages (from -r requirements.txt (line 5)) (8.1.3)\n",
            "Requirement already satisfied: Sphinx in /usr/local/lib/python3.9/dist-packages (from -r requirements.txt (line 6)) (3.5.4)\n",
            "Collecting coverage (from -r requirements.txt (line 7))\n",
            "  Downloading coverage-7.2.3-cp39-cp39-manylinux_2_5_x86_64.manylinux1_x86_64.manylinux_2_17_x86_64.manylinux2014_x86_64.whl (227 kB)\n",
            "\u001b[2K     \u001b[90m━━━━━━━━━━━━━━━━━━━━━━━━━━━━━━━━━━━━━━━\u001b[0m \u001b[32m227.5/227.5 kB\u001b[0m \u001b[31m3.7 MB/s\u001b[0m eta \u001b[36m0:00:00\u001b[0m\n",
            "\u001b[?25hCollecting black (from -r requirements.txt (line 8))\n",
            "  Downloading black-23.3.0-cp39-cp39-manylinux_2_17_x86_64.manylinux2014_x86_64.whl (1.7 MB)\n",
            "\u001b[2K     \u001b[90m━━━━━━━━━━━━━━━━━━━━━━━━━━━━━━━━━━━━━━━━\u001b[0m \u001b[32m1.7/1.7 MB\u001b[0m \u001b[31m46.8 MB/s\u001b[0m eta \u001b[36m0:00:00\u001b[0m\n",
            "\u001b[?25hRequirement already satisfied: gdown in /usr/local/lib/python3.9/dist-packages (from -r requirements.txt (line 9)) (4.6.6)\n",
            "Collecting isort (from -r requirements.txt (line 10))\n",
            "  Downloading isort-5.12.0-py3-none-any.whl (91 kB)\n",
            "\u001b[2K     \u001b[90m━━━━━━━━━━━━━━━━━━━━━━━━━━━━━━━━━━━━━━━━\u001b[0m \u001b[32m91.2/91.2 kB\u001b[0m \u001b[31m5.6 MB/s\u001b[0m eta \u001b[36m0:00:00\u001b[0m\n",
            "\u001b[?25hCollecting python-dotenv>=0.5.1 (from -r requirements.txt (line 11))\n",
            "  Downloading python_dotenv-1.0.0-py3-none-any.whl (19 kB)\n",
            "Collecting darts (from -r requirements.txt (line 12))\n",
            "  Downloading darts-0.24.0-py3-none-any.whl (693 kB)\n",
            "\u001b[2K     \u001b[90m━━━━━━━━━━━━━━━━━━━━━━━━━━━━━━━━━━━━━━\u001b[0m \u001b[32m693.9/693.9 kB\u001b[0m \u001b[31m33.9 MB/s\u001b[0m eta \u001b[36m0:00:00\u001b[0m\n",
            "\u001b[?25hCollecting optuna (from -r requirements.txt (line 13))\n",
            "  Downloading optuna-3.1.1-py3-none-any.whl (365 kB)\n",
            "\u001b[2K     \u001b[90m━━━━━━━━━━━━━━━━━━━━━━━━━━━━━━━━━━━━━━\u001b[0m \u001b[32m365.7/365.7 kB\u001b[0m \u001b[31m24.1 MB/s\u001b[0m eta \u001b[36m0:00:00\u001b[0m\n",
            "\u001b[?25hRequirement already satisfied: sphinxcontrib-applehelp in /usr/local/lib/python3.9/dist-packages (from Sphinx->-r requirements.txt (line 6)) (1.0.4)\n",
            "Requirement already satisfied: sphinxcontrib-devhelp in /usr/local/lib/python3.9/dist-packages (from Sphinx->-r requirements.txt (line 6)) (1.0.2)\n",
            "Requirement already satisfied: sphinxcontrib-jsmath in /usr/local/lib/python3.9/dist-packages (from Sphinx->-r requirements.txt (line 6)) (1.0.1)\n",
            "Requirement already satisfied: sphinxcontrib-htmlhelp in /usr/local/lib/python3.9/dist-packages (from Sphinx->-r requirements.txt (line 6)) (2.0.1)\n",
            "Requirement already satisfied: sphinxcontrib-serializinghtml in /usr/local/lib/python3.9/dist-packages (from Sphinx->-r requirements.txt (line 6)) (1.1.5)\n",
            "Requirement already satisfied: sphinxcontrib-qthelp in /usr/local/lib/python3.9/dist-packages (from Sphinx->-r requirements.txt (line 6)) (1.0.3)\n",
            "Requirement already satisfied: Jinja2>=2.3 in /usr/local/lib/python3.9/dist-packages (from Sphinx->-r requirements.txt (line 6)) (3.1.2)\n",
            "Requirement already satisfied: Pygments>=2.0 in /usr/local/lib/python3.9/dist-packages (from Sphinx->-r requirements.txt (line 6)) (2.14.0)\n",
            "Requirement already satisfied: docutils<0.17,>=0.12 in /usr/local/lib/python3.9/dist-packages (from Sphinx->-r requirements.txt (line 6)) (0.16)\n",
            "Requirement already satisfied: snowballstemmer>=1.1 in /usr/local/lib/python3.9/dist-packages (from Sphinx->-r requirements.txt (line 6)) (2.2.0)\n",
            "Requirement already satisfied: babel>=1.3 in /usr/local/lib/python3.9/dist-packages (from Sphinx->-r requirements.txt (line 6)) (2.12.1)\n",
            "Requirement already satisfied: alabaster<0.8,>=0.7 in /usr/local/lib/python3.9/dist-packages (from Sphinx->-r requirements.txt (line 6)) (0.7.13)\n",
            "Requirement already satisfied: imagesize in /usr/local/lib/python3.9/dist-packages (from Sphinx->-r requirements.txt (line 6)) (1.4.1)\n",
            "Requirement already satisfied: requests>=2.5.0 in /usr/local/lib/python3.9/dist-packages (from Sphinx->-r requirements.txt (line 6)) (2.27.1)\n",
            "Requirement already satisfied: setuptools in /usr/local/lib/python3.9/dist-packages (from Sphinx->-r requirements.txt (line 6)) (67.6.1)\n",
            "Requirement already satisfied: packaging in /usr/local/lib/python3.9/dist-packages (from Sphinx->-r requirements.txt (line 6)) (23.0)\n",
            "Collecting mypy-extensions>=0.4.3 (from black->-r requirements.txt (line 8))\n",
            "  Downloading mypy_extensions-1.0.0-py3-none-any.whl (4.7 kB)\n",
            "Collecting pathspec>=0.9.0 (from black->-r requirements.txt (line 8))\n",
            "  Downloading pathspec-0.11.1-py3-none-any.whl (29 kB)\n",
            "Requirement already satisfied: platformdirs>=2 in /usr/local/lib/python3.9/dist-packages (from black->-r requirements.txt (line 8)) (3.2.0)\n",
            "Requirement already satisfied: tomli>=1.1.0 in /usr/local/lib/python3.9/dist-packages (from black->-r requirements.txt (line 8)) (2.0.1)\n",
            "Requirement already satisfied: typing-extensions>=3.10.0.0 in /usr/local/lib/python3.9/dist-packages (from black->-r requirements.txt (line 8)) (4.5.0)\n",
            "Requirement already satisfied: filelock in /usr/local/lib/python3.9/dist-packages (from gdown->-r requirements.txt (line 9)) (3.11.0)\n",
            "Requirement already satisfied: six in /usr/local/lib/python3.9/dist-packages (from gdown->-r requirements.txt (line 9)) (1.16.0)\n",
            "Requirement already satisfied: tqdm in /usr/local/lib/python3.9/dist-packages (from gdown->-r requirements.txt (line 9)) (4.65.0)\n",
            "Requirement already satisfied: beautifulsoup4 in /usr/local/lib/python3.9/dist-packages (from gdown->-r requirements.txt (line 9)) (4.11.2)\n",
            "Collecting catboost>=1.0.6 (from darts->-r requirements.txt (line 12))\n",
            "  Downloading catboost-1.1.1-cp39-none-manylinux1_x86_64.whl (76.6 MB)\n",
            "\u001b[2K     \u001b[90m━━━━━━━━━━━━━━━━━━━━━━━━━━━━━━━━━━━━━━━━\u001b[0m \u001b[32m76.6/76.6 MB\u001b[0m \u001b[31m9.7 MB/s\u001b[0m eta \u001b[36m0:00:00\u001b[0m\n",
            "\u001b[?25hRequirement already satisfied: holidays>=0.11.1 in /usr/local/lib/python3.9/dist-packages (from darts->-r requirements.txt (line 12)) (0.22)\n",
            "Requirement already satisfied: joblib>=0.16.0 in /usr/local/lib/python3.9/dist-packages (from darts->-r requirements.txt (line 12)) (1.2.0)\n",
            "Requirement already satisfied: lightgbm>=3.2.0 in /usr/local/lib/python3.9/dist-packages (from darts->-r requirements.txt (line 12)) (3.3.5)\n",
            "Requirement already satisfied: matplotlib>=3.3.0 in /usr/local/lib/python3.9/dist-packages (from darts->-r requirements.txt (line 12)) (3.7.1)\n",
            "Collecting nfoursid>=1.0.0 (from darts->-r requirements.txt (line 12))\n",
            "  Downloading nfoursid-1.0.1-py3-none-any.whl (16 kB)\n",
            "Requirement already satisfied: numpy>=1.19.0 in /usr/local/lib/python3.9/dist-packages (from darts->-r requirements.txt (line 12)) (1.22.4)\n",
            "Requirement already satisfied: pandas>=1.0.5 in /usr/local/lib/python3.9/dist-packages (from darts->-r requirements.txt (line 12)) (1.5.3)\n",
            "Collecting pmdarima>=1.8.0 (from darts->-r requirements.txt (line 12))\n",
            "  Downloading pmdarima-2.0.3-cp39-cp39-manylinux_2_17_x86_64.manylinux2014_x86_64.manylinux_2_28_x86_64.whl (1.9 MB)\n",
            "\u001b[2K     \u001b[90m━━━━━━━━━━━━━━━━━━━━━━━━━━━━━━━━━━━━━━━━\u001b[0m \u001b[32m1.9/1.9 MB\u001b[0m \u001b[31m65.0 MB/s\u001b[0m eta \u001b[36m0:00:00\u001b[0m\n",
            "\u001b[?25hRequirement already satisfied: prophet>=1.1.1 in /usr/local/lib/python3.9/dist-packages (from darts->-r requirements.txt (line 12)) (1.1.2)\n",
            "Collecting pyod>=0.9.5 (from darts->-r requirements.txt (line 12))\n",
            "  Downloading pyod-1.0.9.tar.gz (149 kB)\n",
            "\u001b[2K     \u001b[90m━━━━━━━━━━━━━━━━━━━━━━━━━━━━━━━━━━━━━━\u001b[0m \u001b[32m150.0/150.0 kB\u001b[0m \u001b[31m10.5 MB/s\u001b[0m eta \u001b[36m0:00:00\u001b[0m\n",
            "\u001b[?25h  Preparing metadata (setup.py) ... \u001b[?25l\u001b[?25hdone\n",
            "Requirement already satisfied: scikit-learn>=1.0.1 in /usr/local/lib/python3.9/dist-packages (from darts->-r requirements.txt (line 12)) (1.2.2)\n",
            "Requirement already satisfied: scipy>=1.3.2 in /usr/local/lib/python3.9/dist-packages (from darts->-r requirements.txt (line 12)) (1.10.1)\n",
            "Collecting shap>=0.40.0 (from darts->-r requirements.txt (line 12))\n",
            "  Downloading shap-0.41.0-cp39-cp39-manylinux_2_12_x86_64.manylinux2010_x86_64.whl (572 kB)\n",
            "\u001b[2K     \u001b[90m━━━━━━━━━━━━━━━━━━━━━━━━━━━━━━━━━━━━━━\u001b[0m \u001b[32m572.4/572.4 kB\u001b[0m \u001b[31m41.3 MB/s\u001b[0m eta \u001b[36m0:00:00\u001b[0m\n",
            "\u001b[?25hCollecting statsforecast>=1.4 (from darts->-r requirements.txt (line 12))\n",
            "  Downloading statsforecast-1.5.0-py3-none-any.whl (99 kB)\n",
            "\u001b[2K     \u001b[90m━━━━━━━━━━━━━━━━━━━━━━━━━━━━━━━━━━━━━━━\u001b[0m \u001b[32m100.0/100.0 kB\u001b[0m \u001b[31m9.8 MB/s\u001b[0m eta \u001b[36m0:00:00\u001b[0m\n",
            "\u001b[?25hRequirement already satisfied: statsmodels>=0.13.0 in /usr/local/lib/python3.9/dist-packages (from darts->-r requirements.txt (line 12)) (0.13.5)\n",
            "Collecting tbats>=1.1.0 (from darts->-r requirements.txt (line 12))\n",
            "  Downloading tbats-1.1.3-py3-none-any.whl (44 kB)\n",
            "\u001b[2K     \u001b[90m━━━━━━━━━━━━━━━━━━━━━━━━━━━━━━━━━━━━━━━━\u001b[0m \u001b[32m44.0/44.0 kB\u001b[0m \u001b[31m1.8 MB/s\u001b[0m eta \u001b[36m0:00:00\u001b[0m\n",
            "\u001b[?25hRequirement already satisfied: xarray>=0.17.0 in /usr/local/lib/python3.9/dist-packages (from darts->-r requirements.txt (line 12)) (2022.12.0)\n",
            "Requirement already satisfied: xgboost>=1.6.0 in /usr/local/lib/python3.9/dist-packages (from darts->-r requirements.txt (line 12)) (1.7.5)\n",
            "Collecting pytorch-lightning>=1.5.0 (from darts->-r requirements.txt (line 12))\n",
            "  Downloading pytorch_lightning-2.0.1.post0-py3-none-any.whl (718 kB)\n",
            "\u001b[2K     \u001b[90m━━━━━━━━━━━━━━━━━━━━━━━━━━━━━━━━━━━━━━\u001b[0m \u001b[32m718.6/718.6 kB\u001b[0m \u001b[31m49.1 MB/s\u001b[0m eta \u001b[36m0:00:00\u001b[0m\n",
            "\u001b[?25hCollecting tensorboardX>=2.1 (from darts->-r requirements.txt (line 12))\n",
            "  Downloading tensorboardX-2.6-py2.py3-none-any.whl (114 kB)\n",
            "\u001b[2K     \u001b[90m━━━━━━━━━━━━━━━━━━━━━━━━━━━━━━━━━━━━━━\u001b[0m \u001b[32m114.5/114.5 kB\u001b[0m \u001b[31m12.5 MB/s\u001b[0m eta \u001b[36m0:00:00\u001b[0m\n",
            "\u001b[?25hRequirement already satisfied: torch>=1.8.0 in /usr/local/lib/python3.9/dist-packages (from darts->-r requirements.txt (line 12)) (2.0.0+cu118)\n",
            "Collecting alembic>=1.5.0 (from optuna->-r requirements.txt (line 13))\n",
            "  Downloading alembic-1.10.3-py3-none-any.whl (212 kB)\n",
            "\u001b[2K     \u001b[90m━━━━━━━━━━━━━━━━━━━━━━━━━━━━━━━━━━━━━━\u001b[0m \u001b[32m212.3/212.3 kB\u001b[0m \u001b[31m21.1 MB/s\u001b[0m eta \u001b[36m0:00:00\u001b[0m\n",
            "\u001b[?25hCollecting cmaes>=0.9.1 (from optuna->-r requirements.txt (line 13))\n",
            "  Downloading cmaes-0.9.1-py3-none-any.whl (21 kB)\n",
            "Collecting colorlog (from optuna->-r requirements.txt (line 13))\n",
            "  Downloading colorlog-6.7.0-py2.py3-none-any.whl (11 kB)\n",
            "Requirement already satisfied: sqlalchemy>=1.3.0 in /usr/local/lib/python3.9/dist-packages (from optuna->-r requirements.txt (line 13)) (2.0.9)\n",
            "Requirement already satisfied: PyYAML in /usr/local/lib/python3.9/dist-packages (from optuna->-r requirements.txt (line 13)) (6.0)\n",
            "Collecting Mako (from alembic>=1.5.0->optuna->-r requirements.txt (line 13))\n",
            "  Downloading Mako-1.2.4-py3-none-any.whl (78 kB)\n",
            "\u001b[2K     \u001b[90m━━━━━━━━━━━━━━━━━━━━━━━━━━━━━━━━━━━━━━━━\u001b[0m \u001b[32m78.7/78.7 kB\u001b[0m \u001b[31m9.0 MB/s\u001b[0m eta \u001b[36m0:00:00\u001b[0m\n",
            "\u001b[?25hRequirement already satisfied: graphviz in /usr/local/lib/python3.9/dist-packages (from catboost>=1.0.6->darts->-r requirements.txt (line 12)) (0.20.1)\n",
            "Requirement already satisfied: plotly in /usr/local/lib/python3.9/dist-packages (from catboost>=1.0.6->darts->-r requirements.txt (line 12)) (5.13.1)\n",
            "Requirement already satisfied: PyMeeus in /usr/local/lib/python3.9/dist-packages (from holidays>=0.11.1->darts->-r requirements.txt (line 12)) (0.5.12)\n",
            "Requirement already satisfied: convertdate>=2.3.0 in /usr/local/lib/python3.9/dist-packages (from holidays>=0.11.1->darts->-r requirements.txt (line 12)) (2.4.0)\n",
            "Requirement already satisfied: hijri-converter in /usr/local/lib/python3.9/dist-packages (from holidays>=0.11.1->darts->-r requirements.txt (line 12)) (2.2.4)\n",
            "Requirement already satisfied: korean-lunar-calendar in /usr/local/lib/python3.9/dist-packages (from holidays>=0.11.1->darts->-r requirements.txt (line 12)) (0.3.1)\n",
            "Requirement already satisfied: python-dateutil in /usr/local/lib/python3.9/dist-packages (from holidays>=0.11.1->darts->-r requirements.txt (line 12)) (2.8.2)\n",
            "Requirement already satisfied: MarkupSafe>=2.0 in /usr/local/lib/python3.9/dist-packages (from Jinja2>=2.3->Sphinx->-r requirements.txt (line 6)) (2.1.2)\n",
            "Requirement already satisfied: wheel in /usr/local/lib/python3.9/dist-packages (from lightgbm>=3.2.0->darts->-r requirements.txt (line 12)) (0.40.0)\n",
            "Requirement already satisfied: contourpy>=1.0.1 in /usr/local/lib/python3.9/dist-packages (from matplotlib>=3.3.0->darts->-r requirements.txt (line 12)) (1.0.7)\n",
            "Requirement already satisfied: cycler>=0.10 in /usr/local/lib/python3.9/dist-packages (from matplotlib>=3.3.0->darts->-r requirements.txt (line 12)) (0.11.0)\n",
            "Requirement already satisfied: fonttools>=4.22.0 in /usr/local/lib/python3.9/dist-packages (from matplotlib>=3.3.0->darts->-r requirements.txt (line 12)) (4.39.3)\n",
            "Requirement already satisfied: kiwisolver>=1.0.1 in /usr/local/lib/python3.9/dist-packages (from matplotlib>=3.3.0->darts->-r requirements.txt (line 12)) (1.4.4)\n",
            "Requirement already satisfied: pillow>=6.2.0 in /usr/local/lib/python3.9/dist-packages (from matplotlib>=3.3.0->darts->-r requirements.txt (line 12)) (8.4.0)\n",
            "Requirement already satisfied: pyparsing>=2.3.1 in /usr/local/lib/python3.9/dist-packages (from matplotlib>=3.3.0->darts->-r requirements.txt (line 12)) (3.0.9)\n",
            "Requirement already satisfied: importlib-resources>=3.2.0 in /usr/local/lib/python3.9/dist-packages (from matplotlib>=3.3.0->darts->-r requirements.txt (line 12)) (5.12.0)\n",
            "Requirement already satisfied: pytz>=2020.1 in /usr/local/lib/python3.9/dist-packages (from pandas>=1.0.5->darts->-r requirements.txt (line 12)) (2022.7.1)\n",
            "Requirement already satisfied: Cython!=0.29.18,!=0.29.31,>=0.29 in /usr/local/lib/python3.9/dist-packages (from pmdarima>=1.8.0->darts->-r requirements.txt (line 12)) (0.29.34)\n",
            "Requirement already satisfied: urllib3 in /usr/local/lib/python3.9/dist-packages (from pmdarima>=1.8.0->darts->-r requirements.txt (line 12)) (1.26.15)\n",
            "Requirement already satisfied: cmdstanpy>=1.0.4 in /usr/local/lib/python3.9/dist-packages (from prophet>=1.1.1->darts->-r requirements.txt (line 12)) (1.1.0)\n",
            "Requirement already satisfied: LunarCalendar>=0.0.9 in /usr/local/lib/python3.9/dist-packages (from prophet>=1.1.1->darts->-r requirements.txt (line 12)) (0.0.9)\n",
            "Requirement already satisfied: numba>=0.51 in /usr/local/lib/python3.9/dist-packages (from pyod>=0.9.5->darts->-r requirements.txt (line 12)) (0.56.4)\n",
            "Requirement already satisfied: fsspec[http]>2021.06.0 in /usr/local/lib/python3.9/dist-packages (from pytorch-lightning>=1.5.0->darts->-r requirements.txt (line 12)) (2023.4.0)\n",
            "Collecting torchmetrics>=0.7.0 (from pytorch-lightning>=1.5.0->darts->-r requirements.txt (line 12))\n",
            "  Downloading torchmetrics-0.11.4-py3-none-any.whl (519 kB)\n",
            "\u001b[2K     \u001b[90m━━━━━━━━━━━━━━━━━━━━━━━━━━━━━━━━━━━━━━\u001b[0m \u001b[32m519.2/519.2 kB\u001b[0m \u001b[31m38.7 MB/s\u001b[0m eta \u001b[36m0:00:00\u001b[0m\n",
            "\u001b[?25hCollecting lightning-utilities>=0.7.0 (from pytorch-lightning>=1.5.0->darts->-r requirements.txt (line 12))\n",
            "  Downloading lightning_utilities-0.8.0-py3-none-any.whl (20 kB)\n",
            "Requirement already satisfied: certifi>=2017.4.17 in /usr/local/lib/python3.9/dist-packages (from requests>=2.5.0->Sphinx->-r requirements.txt (line 6)) (2022.12.7)\n",
            "Requirement already satisfied: charset-normalizer~=2.0.0 in /usr/local/lib/python3.9/dist-packages (from requests>=2.5.0->Sphinx->-r requirements.txt (line 6)) (2.0.12)\n",
            "Requirement already satisfied: idna<4,>=2.5 in /usr/local/lib/python3.9/dist-packages (from requests>=2.5.0->Sphinx->-r requirements.txt (line 6)) (3.4)\n",
            "Requirement already satisfied: threadpoolctl>=2.0.0 in /usr/local/lib/python3.9/dist-packages (from scikit-learn>=1.0.1->darts->-r requirements.txt (line 12)) (3.1.0)\n",
            "Collecting slicer==0.0.7 (from shap>=0.40.0->darts->-r requirements.txt (line 12))\n",
            "  Downloading slicer-0.0.7-py3-none-any.whl (14 kB)\n",
            "Requirement already satisfied: cloudpickle in /usr/local/lib/python3.9/dist-packages (from shap>=0.40.0->darts->-r requirements.txt (line 12)) (2.2.1)\n",
            "Requirement already satisfied: greenlet!=0.4.17 in /usr/local/lib/python3.9/dist-packages (from sqlalchemy>=1.3.0->optuna->-r requirements.txt (line 13)) (2.0.2)\n",
            "Collecting plotly-resampler (from statsforecast>=1.4->darts->-r requirements.txt (line 12))\n",
            "  Downloading plotly_resampler-0.8.3.2.tar.gz (46 kB)\n",
            "\u001b[2K     \u001b[90m━━━━━━━━━━━━━━━━━━━━━━━━━━━━━━━━━━━━━━━━\u001b[0m \u001b[32m46.4/46.4 kB\u001b[0m \u001b[31m5.1 MB/s\u001b[0m eta \u001b[36m0:00:00\u001b[0m\n",
            "\u001b[?25h  Installing build dependencies ... \u001b[?25l\u001b[?25hdone\n",
            "  Getting requirements to build wheel ... \u001b[?25l\u001b[?25hdone\n",
            "  Preparing metadata (pyproject.toml) ... \u001b[?25l\u001b[?25hdone\n",
            "Collecting fugue>=0.8.1 (from statsforecast>=1.4->darts->-r requirements.txt (line 12))\n",
            "  Downloading fugue-0.8.3-py3-none-any.whl (372 kB)\n",
            "\u001b[2K     \u001b[90m━━━━━━━━━━━━━━━━━━━━━━━━━━━━━━━━━━━━━━\u001b[0m \u001b[32m372.4/372.4 kB\u001b[0m \u001b[31m34.5 MB/s\u001b[0m eta \u001b[36m0:00:00\u001b[0m\n",
            "\u001b[?25hRequirement already satisfied: patsy>=0.5.2 in /usr/local/lib/python3.9/dist-packages (from statsmodels>=0.13.0->darts->-r requirements.txt (line 12)) (0.5.3)\n",
            "Requirement already satisfied: protobuf<4,>=3.8.0 in /usr/local/lib/python3.9/dist-packages (from tensorboardX>=2.1->darts->-r requirements.txt (line 12)) (3.20.3)\n",
            "Requirement already satisfied: sympy in /usr/local/lib/python3.9/dist-packages (from torch>=1.8.0->darts->-r requirements.txt (line 12)) (1.11.1)\n",
            "Requirement already satisfied: networkx in /usr/local/lib/python3.9/dist-packages (from torch>=1.8.0->darts->-r requirements.txt (line 12)) (3.1)\n",
            "Requirement already satisfied: triton==2.0.0 in /usr/local/lib/python3.9/dist-packages (from torch>=1.8.0->darts->-r requirements.txt (line 12)) (2.0.0)\n",
            "Requirement already satisfied: cmake in /usr/local/lib/python3.9/dist-packages (from triton==2.0.0->torch>=1.8.0->darts->-r requirements.txt (line 12)) (3.25.2)\n",
            "Requirement already satisfied: lit in /usr/local/lib/python3.9/dist-packages (from triton==2.0.0->torch>=1.8.0->darts->-r requirements.txt (line 12)) (16.0.1)\n",
            "Requirement already satisfied: soupsieve>1.2 in /usr/local/lib/python3.9/dist-packages (from beautifulsoup4->gdown->-r requirements.txt (line 9)) (2.4)\n",
            "Requirement already satisfied: PySocks!=1.5.7,>=1.5.6 in /usr/local/lib/python3.9/dist-packages (from requests>=2.5.0->Sphinx->-r requirements.txt (line 6)) (1.7.1)\n",
            "Collecting aiohttp!=4.0.0a0,!=4.0.0a1 (from fsspec[http]>2021.06.0->pytorch-lightning>=1.5.0->darts->-r requirements.txt (line 12))\n",
            "  Downloading aiohttp-3.8.4-cp39-cp39-manylinux_2_17_x86_64.manylinux2014_x86_64.whl (1.0 MB)\n",
            "\u001b[2K     \u001b[90m━━━━━━━━━━━━━━━━━━━━━━━━━━━━━━━━━━━━━━━━\u001b[0m \u001b[32m1.0/1.0 MB\u001b[0m \u001b[31m59.4 MB/s\u001b[0m eta \u001b[36m0:00:00\u001b[0m\n",
            "\u001b[?25hCollecting triad>=0.8.4 (from fugue>=0.8.1->statsforecast>=1.4->darts->-r requirements.txt (line 12))\n",
            "  Downloading triad-0.8.6-py3-none-any.whl (77 kB)\n",
            "\u001b[2K     \u001b[90m━━━━━━━━━━━━━━━━━━━━━━━━━━━━━━━━━━━━━━━━\u001b[0m \u001b[32m77.2/77.2 kB\u001b[0m \u001b[31m7.4 MB/s\u001b[0m eta \u001b[36m0:00:00\u001b[0m\n",
            "\u001b[?25hCollecting adagio>=0.2.4 (from fugue>=0.8.1->statsforecast>=1.4->darts->-r requirements.txt (line 12))\n",
            "  Downloading adagio-0.2.4-py3-none-any.whl (26 kB)\n",
            "Collecting qpd>=0.4.0 (from fugue>=0.8.1->statsforecast>=1.4->darts->-r requirements.txt (line 12))\n",
            "  Downloading qpd-0.4.1-py3-none-any.whl (187 kB)\n",
            "\u001b[2K     \u001b[90m━━━━━━━━━━━━━━━━━━━━━━━━━━━━━━━━━━━━━━\u001b[0m \u001b[32m187.9/187.9 kB\u001b[0m \u001b[31m21.1 MB/s\u001b[0m eta \u001b[36m0:00:00\u001b[0m\n",
            "\u001b[?25hCollecting fugue-sql-antlr>=0.1.6 (from fugue>=0.8.1->statsforecast>=1.4->darts->-r requirements.txt (line 12))\n",
            "  Downloading fugue-sql-antlr-0.1.6.tar.gz (154 kB)\n",
            "\u001b[2K     \u001b[90m━━━━━━━━━━━━━━━━━━━━━━━━━━━━━━━━━━━━━━\u001b[0m \u001b[32m154.6/154.6 kB\u001b[0m \u001b[31m17.9 MB/s\u001b[0m eta \u001b[36m0:00:00\u001b[0m\n",
            "\u001b[?25h  Preparing metadata (setup.py) ... \u001b[?25l\u001b[?25hdone\n",
            "Requirement already satisfied: pyarrow>=0.15.1 in /usr/local/lib/python3.9/dist-packages (from fugue>=0.8.1->statsforecast>=1.4->darts->-r requirements.txt (line 12)) (9.0.0)\n",
            "Collecting sqlglot (from fugue>=0.8.1->statsforecast>=1.4->darts->-r requirements.txt (line 12))\n",
            "  Downloading sqlglot-11.5.5-py3-none-any.whl (246 kB)\n",
            "\u001b[2K     \u001b[90m━━━━━━━━━━━━━━━━━━━━━━━━━━━━━━━━━━━━━━━\u001b[0m \u001b[32m246.7/246.7 kB\u001b[0m \u001b[31m3.6 MB/s\u001b[0m eta \u001b[36m0:00:00\u001b[0m\n",
            "\u001b[?25hRequirement already satisfied: zipp>=3.1.0 in /usr/local/lib/python3.9/dist-packages (from importlib-resources>=3.2.0->matplotlib>=3.3.0->darts->-r requirements.txt (line 12)) (3.15.0)\n",
            "Requirement already satisfied: ephem>=3.7.5.3 in /usr/local/lib/python3.9/dist-packages (from LunarCalendar>=0.0.9->prophet>=1.1.1->darts->-r requirements.txt (line 12)) (4.1.4)\n",
            "Requirement already satisfied: llvmlite<0.40,>=0.39.0dev0 in /usr/local/lib/python3.9/dist-packages (from numba>=0.51->pyod>=0.9.5->darts->-r requirements.txt (line 12)) (0.39.1)\n",
            "Requirement already satisfied: tenacity>=6.2.0 in /usr/local/lib/python3.9/dist-packages (from plotly->catboost>=1.0.6->darts->-r requirements.txt (line 12)) (8.2.2)\n",
            "Collecting dash<3.0.0,>=2.2.0 (from plotly-resampler->statsforecast>=1.4->darts->-r requirements.txt (line 12))\n",
            "  Downloading dash-2.9.3-py3-none-any.whl (10.2 MB)\n",
            "\u001b[2K     \u001b[90m━━━━━━━━━━━━━━━━━━━━━━━━━━━━━━━━━━━━━━━━\u001b[0m \u001b[32m10.2/10.2 MB\u001b[0m \u001b[31m81.9 MB/s\u001b[0m eta \u001b[36m0:00:00\u001b[0m\n",
            "\u001b[?25hCollecting jupyter-dash>=0.4.2 (from plotly-resampler->statsforecast>=1.4->darts->-r requirements.txt (line 12))\n",
            "  Downloading jupyter_dash-0.4.2-py3-none-any.whl (23 kB)\n",
            "Collecting orjson<4.0.0,>=3.8.0 (from plotly-resampler->statsforecast>=1.4->darts->-r requirements.txt (line 12))\n",
            "  Downloading orjson-3.8.10-cp39-cp39-manylinux_2_28_x86_64.whl (140 kB)\n",
            "\u001b[2K     \u001b[90m━━━━━━━━━━━━━━━━━━━━━━━━━━━━━━━━━━━━━━\u001b[0m \u001b[32m140.5/140.5 kB\u001b[0m \u001b[31m16.9 MB/s\u001b[0m eta \u001b[36m0:00:00\u001b[0m\n",
            "\u001b[?25hCollecting trace-updater>=0.0.8 (from plotly-resampler->statsforecast>=1.4->darts->-r requirements.txt (line 12))\n",
            "  Downloading trace_updater-0.0.9.1-py3-none-any.whl (185 kB)\n",
            "\u001b[2K     \u001b[90m━━━━━━━━━━━━━━━━━━━━━━━━━━━━━━━━━━━━━━\u001b[0m \u001b[32m185.2/185.2 kB\u001b[0m \u001b[31m21.9 MB/s\u001b[0m eta \u001b[36m0:00:00\u001b[0m\n",
            "\u001b[?25hRequirement already satisfied: mpmath>=0.19 in /usr/local/lib/python3.9/dist-packages (from sympy->torch>=1.8.0->darts->-r requirements.txt (line 12)) (1.3.0)\n",
            "Requirement already satisfied: attrs>=17.3.0 in /usr/local/lib/python3.9/dist-packages (from aiohttp!=4.0.0a0,!=4.0.0a1->fsspec[http]>2021.06.0->pytorch-lightning>=1.5.0->darts->-r requirements.txt (line 12)) (22.2.0)\n",
            "Collecting multidict<7.0,>=4.5 (from aiohttp!=4.0.0a0,!=4.0.0a1->fsspec[http]>2021.06.0->pytorch-lightning>=1.5.0->darts->-r requirements.txt (line 12))\n",
            "  Downloading multidict-6.0.4-cp39-cp39-manylinux_2_17_x86_64.manylinux2014_x86_64.whl (114 kB)\n",
            "\u001b[2K     \u001b[90m━━━━━━━━━━━━━━━━━━━━━━━━━━━━━━━━━━━━━━\u001b[0m \u001b[32m114.2/114.2 kB\u001b[0m \u001b[31m13.7 MB/s\u001b[0m eta \u001b[36m0:00:00\u001b[0m\n",
            "\u001b[?25hCollecting async-timeout<5.0,>=4.0.0a3 (from aiohttp!=4.0.0a0,!=4.0.0a1->fsspec[http]>2021.06.0->pytorch-lightning>=1.5.0->darts->-r requirements.txt (line 12))\n",
            "  Downloading async_timeout-4.0.2-py3-none-any.whl (5.8 kB)\n",
            "Collecting yarl<2.0,>=1.0 (from aiohttp!=4.0.0a0,!=4.0.0a1->fsspec[http]>2021.06.0->pytorch-lightning>=1.5.0->darts->-r requirements.txt (line 12))\n",
            "  Downloading yarl-1.8.2-cp39-cp39-manylinux_2_17_x86_64.manylinux2014_x86_64.whl (264 kB)\n",
            "\u001b[2K     \u001b[90m━━━━━━━━━━━━━━━━━━━━━━━━━━━━━━━━━━━━━━\u001b[0m \u001b[32m264.6/264.6 kB\u001b[0m \u001b[31m29.0 MB/s\u001b[0m eta \u001b[36m0:00:00\u001b[0m\n",
            "\u001b[?25hCollecting frozenlist>=1.1.1 (from aiohttp!=4.0.0a0,!=4.0.0a1->fsspec[http]>2021.06.0->pytorch-lightning>=1.5.0->darts->-r requirements.txt (line 12))\n",
            "  Downloading frozenlist-1.3.3-cp39-cp39-manylinux_2_5_x86_64.manylinux1_x86_64.manylinux_2_17_x86_64.manylinux2014_x86_64.whl (158 kB)\n",
            "\u001b[2K     \u001b[90m━━━━━━━━━━━━━━━━━━━━━━━━━━━━━━━━━━━━━━\u001b[0m \u001b[32m158.8/158.8 kB\u001b[0m \u001b[31m16.3 MB/s\u001b[0m eta \u001b[36m0:00:00\u001b[0m\n",
            "\u001b[?25hCollecting aiosignal>=1.1.2 (from aiohttp!=4.0.0a0,!=4.0.0a1->fsspec[http]>2021.06.0->pytorch-lightning>=1.5.0->darts->-r requirements.txt (line 12))\n",
            "  Downloading aiosignal-1.3.1-py3-none-any.whl (7.6 kB)\n",
            "Requirement already satisfied: Flask>=1.0.4 in /usr/local/lib/python3.9/dist-packages (from dash<3.0.0,>=2.2.0->plotly-resampler->statsforecast>=1.4->darts->-r requirements.txt (line 12)) (2.2.3)\n",
            "Collecting dash-html-components==2.0.0 (from dash<3.0.0,>=2.2.0->plotly-resampler->statsforecast>=1.4->darts->-r requirements.txt (line 12))\n",
            "  Downloading dash_html_components-2.0.0-py3-none-any.whl (4.1 kB)\n",
            "Collecting dash-core-components==2.0.0 (from dash<3.0.0,>=2.2.0->plotly-resampler->statsforecast>=1.4->darts->-r requirements.txt (line 12))\n",
            "  Downloading dash_core_components-2.0.0-py3-none-any.whl (3.8 kB)\n",
            "Collecting dash-table==5.0.0 (from dash<3.0.0,>=2.2.0->plotly-resampler->statsforecast>=1.4->darts->-r requirements.txt (line 12))\n",
            "  Downloading dash_table-5.0.0-py3-none-any.whl (3.9 kB)\n",
            "Collecting antlr4-python3-runtime<4.12,>=4.11.1 (from fugue-sql-antlr>=0.1.6->fugue>=0.8.1->statsforecast>=1.4->darts->-r requirements.txt (line 12))\n",
            "  Downloading antlr4_python3_runtime-4.11.1-py3-none-any.whl (144 kB)\n",
            "\u001b[2K     \u001b[90m━━━━━━━━━━━━━━━━━━━━━━━━━━━━━━━━━━━━━━\u001b[0m \u001b[32m144.2/144.2 kB\u001b[0m \u001b[31m14.1 MB/s\u001b[0m eta \u001b[36m0:00:00\u001b[0m\n",
            "\u001b[?25hCollecting retrying (from jupyter-dash>=0.4.2->plotly-resampler->statsforecast>=1.4->darts->-r requirements.txt (line 12))\n",
            "  Downloading retrying-1.3.4-py3-none-any.whl (11 kB)\n",
            "Requirement already satisfied: ipython in /usr/local/lib/python3.9/dist-packages (from jupyter-dash>=0.4.2->plotly-resampler->statsforecast>=1.4->darts->-r requirements.txt (line 12)) (7.34.0)\n",
            "Requirement already satisfied: ipykernel in /usr/local/lib/python3.9/dist-packages (from jupyter-dash>=0.4.2->plotly-resampler->statsforecast>=1.4->darts->-r requirements.txt (line 12)) (5.5.6)\n",
            "Collecting ansi2html (from jupyter-dash>=0.4.2->plotly-resampler->statsforecast>=1.4->darts->-r requirements.txt (line 12))\n",
            "  Downloading ansi2html-1.8.0-py3-none-any.whl (16 kB)\n",
            "Requirement already satisfied: nest-asyncio in /usr/local/lib/python3.9/dist-packages (from jupyter-dash>=0.4.2->plotly-resampler->statsforecast>=1.4->darts->-r requirements.txt (line 12)) (1.5.6)\n",
            "Collecting fs (from triad>=0.8.4->fugue>=0.8.1->statsforecast>=1.4->darts->-r requirements.txt (line 12))\n",
            "  Downloading fs-2.4.16-py2.py3-none-any.whl (135 kB)\n",
            "\u001b[2K     \u001b[90m━━━━━━━━━━━━━━━━━━━━━━━━━━━━━━━━━━━━━━\u001b[0m \u001b[32m135.3/135.3 kB\u001b[0m \u001b[31m11.2 MB/s\u001b[0m eta \u001b[36m0:00:00\u001b[0m\n",
            "\u001b[?25hRequirement already satisfied: Werkzeug>=2.2.2 in /usr/local/lib/python3.9/dist-packages (from Flask>=1.0.4->dash<3.0.0,>=2.2.0->plotly-resampler->statsforecast>=1.4->darts->-r requirements.txt (line 12)) (2.2.3)\n",
            "Requirement already satisfied: itsdangerous>=2.0 in /usr/local/lib/python3.9/dist-packages (from Flask>=1.0.4->dash<3.0.0,>=2.2.0->plotly-resampler->statsforecast>=1.4->darts->-r requirements.txt (line 12)) (2.1.2)\n",
            "Requirement already satisfied: importlib-metadata>=3.6.0 in /usr/local/lib/python3.9/dist-packages (from Flask>=1.0.4->dash<3.0.0,>=2.2.0->plotly-resampler->statsforecast>=1.4->darts->-r requirements.txt (line 12)) (6.3.0)\n",
            "Requirement already satisfied: appdirs~=1.4.3 in /usr/local/lib/python3.9/dist-packages (from fs->triad>=0.8.4->fugue>=0.8.1->statsforecast>=1.4->darts->-r requirements.txt (line 12)) (1.4.4)\n",
            "Requirement already satisfied: ipython-genutils in /usr/local/lib/python3.9/dist-packages (from ipykernel->jupyter-dash>=0.4.2->plotly-resampler->statsforecast>=1.4->darts->-r requirements.txt (line 12)) (0.2.0)\n",
            "Requirement already satisfied: traitlets>=4.1.0 in /usr/local/lib/python3.9/dist-packages (from ipykernel->jupyter-dash>=0.4.2->plotly-resampler->statsforecast>=1.4->darts->-r requirements.txt (line 12)) (5.7.1)\n",
            "Requirement already satisfied: jupyter-client in /usr/local/lib/python3.9/dist-packages (from ipykernel->jupyter-dash>=0.4.2->plotly-resampler->statsforecast>=1.4->darts->-r requirements.txt (line 12)) (6.1.12)\n",
            "Requirement already satisfied: tornado>=4.2 in /usr/local/lib/python3.9/dist-packages (from ipykernel->jupyter-dash>=0.4.2->plotly-resampler->statsforecast>=1.4->darts->-r requirements.txt (line 12)) (6.2)\n",
            "Collecting jedi>=0.16 (from ipython->jupyter-dash>=0.4.2->plotly-resampler->statsforecast>=1.4->darts->-r requirements.txt (line 12))\n",
            "  Downloading jedi-0.18.2-py2.py3-none-any.whl (1.6 MB)\n",
            "\u001b[2K     \u001b[90m━━━━━━━━━━━━━━━━━━━━━━━━━━━━━━━━━━━━━━━━\u001b[0m \u001b[32m1.6/1.6 MB\u001b[0m \u001b[31m55.0 MB/s\u001b[0m eta \u001b[36m0:00:00\u001b[0m\n",
            "\u001b[?25hRequirement already satisfied: decorator in /usr/local/lib/python3.9/dist-packages (from ipython->jupyter-dash>=0.4.2->plotly-resampler->statsforecast>=1.4->darts->-r requirements.txt (line 12)) (4.4.2)\n",
            "Requirement already satisfied: pickleshare in /usr/local/lib/python3.9/dist-packages (from ipython->jupyter-dash>=0.4.2->plotly-resampler->statsforecast>=1.4->darts->-r requirements.txt (line 12)) (0.7.5)\n",
            "Requirement already satisfied: prompt-toolkit!=3.0.0,!=3.0.1,<3.1.0,>=2.0.0 in /usr/local/lib/python3.9/dist-packages (from ipython->jupyter-dash>=0.4.2->plotly-resampler->statsforecast>=1.4->darts->-r requirements.txt (line 12)) (3.0.38)\n",
            "Requirement already satisfied: backcall in /usr/local/lib/python3.9/dist-packages (from ipython->jupyter-dash>=0.4.2->plotly-resampler->statsforecast>=1.4->darts->-r requirements.txt (line 12)) (0.2.0)\n",
            "Requirement already satisfied: matplotlib-inline in /usr/local/lib/python3.9/dist-packages (from ipython->jupyter-dash>=0.4.2->plotly-resampler->statsforecast>=1.4->darts->-r requirements.txt (line 12)) (0.1.6)\n",
            "Requirement already satisfied: pexpect>4.3 in /usr/local/lib/python3.9/dist-packages (from ipython->jupyter-dash>=0.4.2->plotly-resampler->statsforecast>=1.4->darts->-r requirements.txt (line 12)) (4.8.0)\n",
            "Requirement already satisfied: parso<0.9.0,>=0.8.0 in /usr/local/lib/python3.9/dist-packages (from jedi>=0.16->ipython->jupyter-dash>=0.4.2->plotly-resampler->statsforecast>=1.4->darts->-r requirements.txt (line 12)) (0.8.3)\n",
            "Requirement already satisfied: ptyprocess>=0.5 in /usr/local/lib/python3.9/dist-packages (from pexpect>4.3->ipython->jupyter-dash>=0.4.2->plotly-resampler->statsforecast>=1.4->darts->-r requirements.txt (line 12)) (0.7.0)\n",
            "Requirement already satisfied: wcwidth in /usr/local/lib/python3.9/dist-packages (from prompt-toolkit!=3.0.0,!=3.0.1,<3.1.0,>=2.0.0->ipython->jupyter-dash>=0.4.2->plotly-resampler->statsforecast>=1.4->darts->-r requirements.txt (line 12)) (0.2.6)\n",
            "Requirement already satisfied: jupyter-core>=4.6.0 in /usr/local/lib/python3.9/dist-packages (from jupyter-client->ipykernel->jupyter-dash>=0.4.2->plotly-resampler->statsforecast>=1.4->darts->-r requirements.txt (line 12)) (5.3.0)\n",
            "Requirement already satisfied: pyzmq>=13 in /usr/local/lib/python3.9/dist-packages (from jupyter-client->ipykernel->jupyter-dash>=0.4.2->plotly-resampler->statsforecast>=1.4->darts->-r requirements.txt (line 12)) (23.2.1)\n",
            "Building wheels for collected packages: pyod, plotly-resampler, fugue-sql-antlr\n",
            "  Building wheel for pyod (setup.py) ... \u001b[?25l\u001b[?25hdone\n",
            "  Created wheel for pyod: filename=pyod-1.0.9-py3-none-any.whl size=184112 sha256=24f94e4e3a96e07f4f064368eb79a5d2f791acdc080880e8ba6cde68adaaa7ce\n",
            "  Stored in directory: /root/.cache/pip/wheels/1b/9c/b8/9759d7cc64a1e01bb9872ade80cb7db445ccf506e083325106\n",
            "  Building wheel for plotly-resampler (pyproject.toml) ... \u001b[?25l\u001b[?25hdone\n",
            "  Created wheel for plotly-resampler: filename=plotly_resampler-0.8.3.2-cp39-cp39-manylinux_2_31_x86_64.whl size=75047 sha256=36a20ee07091d0dcb662ecd6a5c0365d419fae84eebd04373483be29a7a37a56\n",
            "  Stored in directory: /root/.cache/pip/wheels/9e/36/06/4c11e300918011376af149098621ec7ebe06d8256566d43d51\n",
            "  Building wheel for fugue-sql-antlr (setup.py) ... \u001b[?25l\u001b[?25hdone\n",
            "  Created wheel for fugue-sql-antlr: filename=fugue_sql_antlr-0.1.6-py3-none-any.whl size=158066 sha256=7affe1e7dd74de41e32c7d3aec8bc208fb1b0f0164899e81074c80ab2508e0fb\n",
            "  Stored in directory: /root/.cache/pip/wheels/57/b3/01/795c8a9ccaf9574fc3471b0199731c5526cf7c5e127db42a74\n",
            "Successfully built pyod plotly-resampler fugue-sql-antlr\n",
            "Installing collected packages: trace-updater, src, sqlglot, dash-table, dash-html-components, dash-core-components, antlr4-python3-runtime, tensorboardX, slicer, retrying, python-dotenv, pathspec, orjson, mypy-extensions, multidict, Mako, lightning-utilities, jedi, isort, fs, frozenlist, coverage, colorlog, cmaes, async-timeout, ansi2html, yarl, black, alembic, aiosignal, triad, shap, pyod, optuna, nfoursid, dash, catboost, aiohttp, pmdarima, jupyter-dash, fugue-sql-antlr, adagio, tbats, qpd, plotly-resampler, fugue, statsforecast, torchmetrics, pytorch-lightning, darts\n",
            "  Running setup.py develop for src\n",
            "Successfully installed Mako-1.2.4 adagio-0.2.4 aiohttp-3.8.4 aiosignal-1.3.1 alembic-1.10.3 ansi2html-1.8.0 antlr4-python3-runtime-4.11.1 async-timeout-4.0.2 black-23.3.0 catboost-1.1.1 cmaes-0.9.1 colorlog-6.7.0 coverage-7.2.3 darts-0.24.0 dash-2.9.3 dash-core-components-2.0.0 dash-html-components-2.0.0 dash-table-5.0.0 frozenlist-1.3.3 fs-2.4.16 fugue-0.8.3 fugue-sql-antlr-0.1.6 isort-5.12.0 jedi-0.18.2 jupyter-dash-0.4.2 lightning-utilities-0.8.0 multidict-6.0.4 mypy-extensions-1.0.0 nfoursid-1.0.1 optuna-3.1.1 orjson-3.8.10 pathspec-0.11.1 plotly-resampler-0.8.3.2 pmdarima-2.0.3 pyod-1.0.9 python-dotenv-1.0.0 pytorch-lightning-2.0.1.post0 qpd-0.4.1 retrying-1.3.4 shap-0.41.0 slicer-0.0.7 sqlglot-11.5.5 src-0.1.0 statsforecast-1.5.0 tbats-1.1.3 tensorboardX-2.6 torchmetrics-0.11.4 trace-updater-0.0.9.1 triad-0.8.6 yarl-1.8.2\n",
            "\u001b[33mWARNING: Running pip as the 'root' user can result in broken permissions and conflicting behaviour with the system package manager. It is recommended to use a virtual environment instead: https://pip.pypa.io/warnings/venv\u001b[0m\u001b[33m\n",
            "\u001b[0mpython3 src/gdrive/make_sync_data.py\n",
            "2023-04-19 10:39:57,055 - __main__ - INFO - fetching zipped data from gdrive\n",
            "2023-04-19 10:39:57,056 - root - INFO - downloading zip file /content/IFT6759_B_H23/data/raw.zip from https://drive.google.com/uc?id=1RvJjkjOPxCeVk7zocLbeoOZ3wf3UEREe\n",
            "Downloading...\n",
            "From: https://drive.google.com/uc?id=1RvJjkjOPxCeVk7zocLbeoOZ3wf3UEREe\n",
            "To: /content/IFT6759_B_H23/data/raw.zip\n",
            "100% 62.2M/62.2M [00:00<00:00, 79.2MB/s]\n",
            "2023-04-19 10:39:58,520 - root - INFO - extracting /content/IFT6759_B_H23/data/raw.zip to /content/IFT6759_B_H23/data/raw\n",
            "2023-04-19 10:40:00,859 - root - INFO - removing temp file /content/IFT6759_B_H23/data/raw.zip\n",
            "2023-04-19 10:40:00,870 - __main__ - INFO - done!\n"
          ]
        }
      ],
      "source": [
        "# download repo\n",
        "! git clone -b data_folder https://github.com/MarthyGarcia/IFT6759_B_H23.git\n",
        "%cd IFT6759_B_H23\n",
        "\n",
        "# install make\n",
        "! apt-get install binutils\n",
        "\n",
        "# run dependencies\n",
        "! make requirements\n",
        "! make sync_data"
      ]
    },
    {
      "cell_type": "code",
      "execution_count": null,
      "metadata": {
        "ExecuteTime": {
          "end_time": "2023-03-31T17:46:31.314623Z",
          "start_time": "2023-03-31T17:46:24.668900Z"
        },
        "id": "Lmqr2lYpx78w"
      },
      "outputs": [],
      "source": [
        "from darts.metrics import mae\n",
        "from src.pipeline.pipeline import ExperimentPipeline\n",
        "from darts.models import TransformerModel, ExponentialSmoothing, XGBModel\n",
        "from src.pipeline.experiment import Experiment, HyperParameter, BayesOptHyperParameter\n",
        "from darts.dataprocessing.transformers import Scaler\n",
        "from darts.dataprocessing import Pipeline\n",
        "from darts.utils.utils import ModelMode\n",
        "from pytorch_lightning.callbacks import EarlyStopping"
      ]
    },
    {
      "cell_type": "markdown",
      "metadata": {
        "collapsed": false,
        "id": "Kt5R-PDUx78w"
      },
      "source": [
        "We first define our dataset and algorithm"
      ]
    },
    {
      "cell_type": "code",
      "execution_count": null,
      "metadata": {
        "ExecuteTime": {
          "end_time": "2023-03-31T17:46:31.314980Z",
          "start_time": "2023-03-31T17:46:31.314555Z"
        },
        "id": "ed0ji-e0x78w"
      },
      "outputs": [],
      "source": [
        "# define dataset\n",
        "dataset = 'BTC'  # ['exchange_rate', 'traffic', 'electricity'], only uses first covariate"
      ]
    },
    {
      "cell_type": "code",
      "execution_count": null,
      "metadata": {
        "ExecuteTime": {
          "end_time": "2023-03-31T17:46:31.315280Z",
          "start_time": "2023-03-31T17:46:31.314777Z"
        },
        "id": "1khgeQt4x78w"
      },
      "outputs": [],
      "source": [
        "# set DARTS model class\n",
        "model =  XGBModel"
      ]
    },
    {
      "cell_type": "code",
      "execution_count": null,
      "metadata": {
        "ExecuteTime": {
          "end_time": "2023-03-31T17:46:31.315460Z",
          "start_time": "2023-03-31T17:46:31.314941Z"
        },
        "id": "ng-nyt7vx78w"
      },
      "outputs": [],
      "source": [
        "# define preprocessing\n",
        "preprocessing = Pipeline([\n",
        "    Scaler()\n",
        "])"
      ]
    },
    {
      "cell_type": "markdown",
      "metadata": {
        "collapsed": false,
        "id": "SiCdlBxtx78x"
      },
      "source": [
        "The we define our hyperparameters, which can either be set as `HyperParameters` or sampled from a distribution with `BayesOptHyperparameter`\n",
        "\n",
        "for more info on which method are available, see documentation [here](https://optuna.readthedocs.io/en/stable/reference/generated/optuna.trial.Trial.html)"
      ]
    },
    {
      "cell_type": "code",
      "execution_count": null,
      "metadata": {
        "ExecuteTime": {
          "end_time": "2023-03-31T17:46:31.315617Z",
          "start_time": "2023-03-31T17:46:31.315105Z"
        },
        "id": "sjNYUaBxx78x"
      },
      "outputs": [],
      "source": [
        "hparams  = [\n",
        "\n",
        "    HyperParameter(\n",
        "        name='lags',\n",
        "        value=24*7\n",
        "    ),\n",
        "\n",
        "    HyperParameter(\n",
        "        name='output_chunk_length',\n",
        "        value=24*7\n",
        "    )\n",
        "\n",
        "]\n",
        "\n",
        "\n"
      ]
    },
    {
      "cell_type": "markdown",
      "metadata": {
        "collapsed": false,
        "id": "DIZxs2Jzx78x"
      },
      "source": [
        "Once this is done we can define our experiment"
      ]
    },
    {
      "cell_type": "code",
      "execution_count": null,
      "metadata": {
        "ExecuteTime": {
          "end_time": "2023-03-31T17:46:31.315781Z",
          "start_time": "2023-03-31T17:46:31.315334Z"
        },
        "collapsed": true,
        "id": "1NuwTI93x78x"
      },
      "outputs": [],
      "source": [
        "params = Experiment(\n",
        "    dataset=dataset,\n",
        "    preprocessing=preprocessing,\n",
        "    model=model,\n",
        "    hyper_parameters=hparams,\n",
        "    metric=mae,\n",
        "    horizon=24*7,           # Horizon for prediction\n",
        "    optuna_timeout=120,   # Time allocated for HParam search in seconds\n",
        "    n_backtest=100,           # Number of validation samples for the backtest, means len(valid_dataset)\n",
        "    n_train_samples=500     # Number of samples for our .fit(), means len(train_dataset)\n",
        ")"
      ]
    },
    {
      "cell_type": "markdown",
      "metadata": {
        "collapsed": false,
        "id": "1p4d7Yc3x78y"
      },
      "source": [
        "The we run the experiment and save the logs in our ipynb"
      ]
    },
    {
      "cell_type": "code",
      "execution_count": null,
      "metadata": {
        "ExecuteTime": {
          "end_time": "2023-03-31T17:46:31.315978Z",
          "start_time": "2023-03-31T17:46:31.315498Z"
        },
        "id": "4hyMKqm9x78y"
      },
      "outputs": [],
      "source": [
        "# get loads of warnings\n",
        "import warnings\n",
        "warnings.simplefilter(\"ignore\", category=UserWarning)"
      ]
    },
    {
      "cell_type": "code",
      "execution_count": null,
      "metadata": {
        "ExecuteTime": {
          "end_time": "2023-03-31T17:47:37.052379Z",
          "start_time": "2023-03-31T17:46:31.315691Z"
        },
        "colab": {
          "base_uri": "https://localhost:8080/"
        },
        "id": "DMWOuwKfx78y",
        "outputId": "43902809-c230-45f6-85e3-1626d45ffc5a"
      },
      "outputs": [
        {
          "metadata": {
            "tags": null
          },
          "name": "stdout",
          "output_type": "stream",
          "text": [
            "Fetching Data ...\n",
            "Beginning Optimization\n"
          ]
        },
        {
          "output_type": "stream",
          "name": "stderr",
          "text": [
            "100%|██████████| 101/101 [00:14<00:00,  6.75it/s]\n"
          ]
        },
        {
          "output_type": "stream",
          "name": "stdout",
          "text": [
            "value: 0.00845064718423122\n"
          ]
        }
      ],
      "source": [
        "pipeline = ExperimentPipeline(params)\n",
        "pipeline.run()"
      ]
    },
    {
      "cell_type": "code",
      "execution_count": null,
      "metadata": {
        "ExecuteTime": {
          "end_time": "2023-03-31T17:49:05.963069Z",
          "start_time": "2023-03-31T17:49:05.289574Z"
        },
        "colab": {
          "base_uri": "https://localhost:8080/",
          "height": 448
        },
        "id": "n-QI51icx78y",
        "outputId": "528913d9-a4a2-4485-ac79-db4378a9bf40"
      },
      "outputs": [
        {
          "data": {
            "image/png": "[encoded data removed]",
            "text/plain": [
              "<Figure size 640x480 with 1 Axes>"
            ]
          },
          "metadata": {},
          "output_type": "display_data"
        }
      ],
      "source": [
        "#Best value: 0.00845064718423122\n",
        "series = pipeline.data['train'].append(pipeline.data['valid'])\n",
        "model = XGBModel(\n",
        "    lags=24*7,\n",
        "    output_chunk_length=24*7,\n",
        "    random_state=0\n",
        ")\n",
        "\n",
        "model.fit(series)\n",
        "\n",
        "preds = model.predict(n=24*7)\n",
        "preds.plot(label='prediction')\n",
        "\n",
        "pipeline.data['test'][:24*7].plot(label='truth')"
      ]
    },
    {
      "cell_type": "code",
      "execution_count": null,
      "metadata": {
        "colab": {
          "base_uri": "https://localhost:8080/"
        },
        "id": "NeqPCHa-x78y",
        "outputId": "7163c73a-edf0-4408-9ed3-7002ab15ed14",
        "pycharm": {
          "is_executing": true
        }
      },
      "outputs": [
        {
          "output_type": "execute_result",
          "data": {
            "text/plain": [
              "0.02122302873613603"
            ]
          },
          "metadata": {},
          "execution_count": 12
        }
      ],
      "source": [
        "# evaluate with full backtest on test data--0.02122302873613603\n",
        "from darts.models.forecasting.forecasting_model import LocalForecastingModel\n",
        "\n",
        "model.backtest(\n",
        "    series=series.append(pipeline.data['test']) + 1e-9,\n",
        "    start=len(series),\n",
        "    forecast_horizon=24*7,\n",
        "    retrain=isinstance(model, LocalForecastingModel),\n",
        "    metric=mae,\n",
        ")\n",
        "\n",
        "\n"
      ]
    }
  ],
  "metadata": {
    "colab": {
      "provenance": []
    },
    "gpuClass": "standard",
    "kernelspec": {
      "display_name": "py10",
      "language": "python",
      "name": "python3"
    },
    "language_info": {
      "codemirror_mode": {
        "name": "ipython",
        "version": 2
      },
      "file_extension": ".py",
      "mimetype": "text/x-python",
      "name": "python",
      "nbconvert_exporter": "python",
      "pygments_lexer": "ipython2",
      "version": "3.10.10"
    },
    "vscode": {
      "interpreter": {
        "hash": "1b81d18d39ffb5d3d09b2844c225be4f9045930bed25f36f268280f3dadb1d85"
      }
    }
  },
  "nbformat": 4,
  "nbformat_minor": 0
}